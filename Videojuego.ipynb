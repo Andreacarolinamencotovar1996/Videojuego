{
  "nbformat": 4,
  "nbformat_minor": 0,
  "metadata": {
    "colab": {
      "name": "Videojuego.ipynb",
      "provenance": []
    },
    "kernelspec": {
      "name": "python3",
      "display_name": "Python 3"
    },
    "language_info": {
      "name": "python"
    }
  },
  "cells": [
    {
      "cell_type": "code",
      "execution_count": 1,
      "metadata": {
        "id": "KSulkhpKj6AP"
      },
      "outputs": [],
      "source": [
        "import numpy as np # Para cargar el módulo de números\n",
        "import pandas as pd # Para tabulaciones\n",
        "import matplotlib.pyplot as plt # Para cargar el módulo de graficos\n",
        "import cv2 as cv # Para visualización de imagenes\n"
      ]
    },
    {
      "cell_type": "code",
      "source": [
        "from google.colab import files \n",
        "uploaded= files.upload () "
      ],
      "metadata": {
        "colab": {
          "base_uri": "https://localhost:8080/",
          "height": 74,
          "resources": {
            "http://localhost:8080/nbextensions/google.colab/files.js": {
              "data": "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",
              "ok": true,
              "headers": [
                [
                  "content-type",
                  "application/javascript"
                ]
              ],
              "status": 200,
              "status_text": ""
            }
          }
        },
        "id": "4jOkOTU5oj9N",
        "outputId": "b8b28e82-b98e-4cfc-ffb9-53269c5f63cf"
      },
      "execution_count": 2,
      "outputs": [
        {
          "output_type": "display_data",
          "data": {
            "text/plain": [
              "<IPython.core.display.HTML object>"
            ],
            "text/html": [
              "\n",
              "     <input type=\"file\" id=\"files-b229b31f-7f65-4cb6-ae1c-7a0b09e43e19\" name=\"files[]\" multiple disabled\n",
              "        style=\"border:none\" />\n",
              "     <output id=\"result-b229b31f-7f65-4cb6-ae1c-7a0b09e43e19\">\n",
              "      Upload widget is only available when the cell has been executed in the\n",
              "      current browser session. Please rerun this cell to enable.\n",
              "      </output>\n",
              "      <script src=\"/nbextensions/google.colab/files.js\"></script> "
            ]
          },
          "metadata": {}
        },
        {
          "output_type": "stream",
          "name": "stdout",
          "text": [
            "Saving purchase.csv to purchase.csv\n"
          ]
        }
      ]
    },
    {
      "cell_type": "code",
      "source": [
        "df_csv=pd.read_csv(\"purchase.csv\",delimiter=\";\") # Para llamar bases de datos en csv "
      ],
      "metadata": {
        "id": "Fha813Q0onJM"
      },
      "execution_count": 3,
      "outputs": []
    },
    {
      "cell_type": "code",
      "source": [
        "names=(\"IDcompra\",\"Usuario\",\"Edad\",\"Genero\",\"ID\",\"NombreArticulo\",\"Precio\") # Para poner titulos a las tablas\n"
      ],
      "metadata": {
        "id": "CNSyD9WvvPFf"
      },
      "execution_count": 4,
      "outputs": []
    },
    {
      "cell_type": "code",
      "source": [
        "df_csv=pd.read_csv(\"purchase.csv\",skiprows=1,names=names,delimiter=\";\") # Para leer bases de datos en formato csv."
      ],
      "metadata": {
        "id": "6davSps5wAG0"
      },
      "execution_count": 5,
      "outputs": []
    },
    {
      "cell_type": "code",
      "source": [
        "df_csv.head(5) # Visualizo solo las 5 primeras filas de la tabla o base de datos."
      ],
      "metadata": {
        "colab": {
          "base_uri": "https://localhost:8080/",
          "height": 206
        },
        "id": "_Bn18eCvpryk",
        "outputId": "096398ee-7cf1-4440-c772-b35d6d6f2404"
      },
      "execution_count": 6,
      "outputs": [
        {
          "output_type": "execute_result",
          "data": {
            "text/plain": [
              "   IDcompra        Usuario  Edad Genero     ID  \\\n",
              "0         0        Lisim78  20.0   Male  108.0   \n",
              "1         1    Lisovynya38  40.0   Male  143.0   \n",
              "2         2     Ithergue48  24.0   Male   92.0   \n",
              "3         3  Chamassasya86  24.0   Male  100.0   \n",
              "4         4      Iskosia90  23.0   Male  131.0   \n",
              "\n",
              "                              NombreArticulo  Precio  \n",
              "0  Extraction, Quickblade Of Trembling Hands    3.53  \n",
              "1                          Frenzied Scimitar    1.56  \n",
              "2                               Final Critic    4.88  \n",
              "3                                Blindscythe    3.27  \n",
              "4                                       Fury    1.44  "
            ],
            "text/html": [
              "\n",
              "  <div id=\"df-41257852-1dc1-4669-92fa-2e395b4b4be8\">\n",
              "    <div class=\"colab-df-container\">\n",
              "      <div>\n",
              "<style scoped>\n",
              "    .dataframe tbody tr th:only-of-type {\n",
              "        vertical-align: middle;\n",
              "    }\n",
              "\n",
              "    .dataframe tbody tr th {\n",
              "        vertical-align: top;\n",
              "    }\n",
              "\n",
              "    .dataframe thead th {\n",
              "        text-align: right;\n",
              "    }\n",
              "</style>\n",
              "<table border=\"1\" class=\"dataframe\">\n",
              "  <thead>\n",
              "    <tr style=\"text-align: right;\">\n",
              "      <th></th>\n",
              "      <th>IDcompra</th>\n",
              "      <th>Usuario</th>\n",
              "      <th>Edad</th>\n",
              "      <th>Genero</th>\n",
              "      <th>ID</th>\n",
              "      <th>NombreArticulo</th>\n",
              "      <th>Precio</th>\n",
              "    </tr>\n",
              "  </thead>\n",
              "  <tbody>\n",
              "    <tr>\n",
              "      <th>0</th>\n",
              "      <td>0</td>\n",
              "      <td>Lisim78</td>\n",
              "      <td>20.0</td>\n",
              "      <td>Male</td>\n",
              "      <td>108.0</td>\n",
              "      <td>Extraction, Quickblade Of Trembling Hands</td>\n",
              "      <td>3.53</td>\n",
              "    </tr>\n",
              "    <tr>\n",
              "      <th>1</th>\n",
              "      <td>1</td>\n",
              "      <td>Lisovynya38</td>\n",
              "      <td>40.0</td>\n",
              "      <td>Male</td>\n",
              "      <td>143.0</td>\n",
              "      <td>Frenzied Scimitar</td>\n",
              "      <td>1.56</td>\n",
              "    </tr>\n",
              "    <tr>\n",
              "      <th>2</th>\n",
              "      <td>2</td>\n",
              "      <td>Ithergue48</td>\n",
              "      <td>24.0</td>\n",
              "      <td>Male</td>\n",
              "      <td>92.0</td>\n",
              "      <td>Final Critic</td>\n",
              "      <td>4.88</td>\n",
              "    </tr>\n",
              "    <tr>\n",
              "      <th>3</th>\n",
              "      <td>3</td>\n",
              "      <td>Chamassasya86</td>\n",
              "      <td>24.0</td>\n",
              "      <td>Male</td>\n",
              "      <td>100.0</td>\n",
              "      <td>Blindscythe</td>\n",
              "      <td>3.27</td>\n",
              "    </tr>\n",
              "    <tr>\n",
              "      <th>4</th>\n",
              "      <td>4</td>\n",
              "      <td>Iskosia90</td>\n",
              "      <td>23.0</td>\n",
              "      <td>Male</td>\n",
              "      <td>131.0</td>\n",
              "      <td>Fury</td>\n",
              "      <td>1.44</td>\n",
              "    </tr>\n",
              "  </tbody>\n",
              "</table>\n",
              "</div>\n",
              "      <button class=\"colab-df-convert\" onclick=\"convertToInteractive('df-41257852-1dc1-4669-92fa-2e395b4b4be8')\"\n",
              "              title=\"Convert this dataframe to an interactive table.\"\n",
              "              style=\"display:none;\">\n",
              "        \n",
              "  <svg xmlns=\"http://www.w3.org/2000/svg\" height=\"24px\"viewBox=\"0 0 24 24\"\n",
              "       width=\"24px\">\n",
              "    <path d=\"M0 0h24v24H0V0z\" fill=\"none\"/>\n",
              "    <path d=\"M18.56 5.44l.94 2.06.94-2.06 2.06-.94-2.06-.94-.94-2.06-.94 2.06-2.06.94zm-11 1L8.5 8.5l.94-2.06 2.06-.94-2.06-.94L8.5 2.5l-.94 2.06-2.06.94zm10 10l.94 2.06.94-2.06 2.06-.94-2.06-.94-.94-2.06-.94 2.06-2.06.94z\"/><path d=\"M17.41 7.96l-1.37-1.37c-.4-.4-.92-.59-1.43-.59-.52 0-1.04.2-1.43.59L10.3 9.45l-7.72 7.72c-.78.78-.78 2.05 0 2.83L4 21.41c.39.39.9.59 1.41.59.51 0 1.02-.2 1.41-.59l7.78-7.78 2.81-2.81c.8-.78.8-2.07 0-2.86zM5.41 20L4 18.59l7.72-7.72 1.47 1.35L5.41 20z\"/>\n",
              "  </svg>\n",
              "      </button>\n",
              "      \n",
              "  <style>\n",
              "    .colab-df-container {\n",
              "      display:flex;\n",
              "      flex-wrap:wrap;\n",
              "      gap: 12px;\n",
              "    }\n",
              "\n",
              "    .colab-df-convert {\n",
              "      background-color: #E8F0FE;\n",
              "      border: none;\n",
              "      border-radius: 50%;\n",
              "      cursor: pointer;\n",
              "      display: none;\n",
              "      fill: #1967D2;\n",
              "      height: 32px;\n",
              "      padding: 0 0 0 0;\n",
              "      width: 32px;\n",
              "    }\n",
              "\n",
              "    .colab-df-convert:hover {\n",
              "      background-color: #E2EBFA;\n",
              "      box-shadow: 0px 1px 2px rgba(60, 64, 67, 0.3), 0px 1px 3px 1px rgba(60, 64, 67, 0.15);\n",
              "      fill: #174EA6;\n",
              "    }\n",
              "\n",
              "    [theme=dark] .colab-df-convert {\n",
              "      background-color: #3B4455;\n",
              "      fill: #D2E3FC;\n",
              "    }\n",
              "\n",
              "    [theme=dark] .colab-df-convert:hover {\n",
              "      background-color: #434B5C;\n",
              "      box-shadow: 0px 1px 3px 1px rgba(0, 0, 0, 0.15);\n",
              "      filter: drop-shadow(0px 1px 2px rgba(0, 0, 0, 0.3));\n",
              "      fill: #FFFFFF;\n",
              "    }\n",
              "  </style>\n",
              "\n",
              "      <script>\n",
              "        const buttonEl =\n",
              "          document.querySelector('#df-41257852-1dc1-4669-92fa-2e395b4b4be8 button.colab-df-convert');\n",
              "        buttonEl.style.display =\n",
              "          google.colab.kernel.accessAllowed ? 'block' : 'none';\n",
              "\n",
              "        async function convertToInteractive(key) {\n",
              "          const element = document.querySelector('#df-41257852-1dc1-4669-92fa-2e395b4b4be8');\n",
              "          const dataTable =\n",
              "            await google.colab.kernel.invokeFunction('convertToInteractive',\n",
              "                                                     [key], {});\n",
              "          if (!dataTable) return;\n",
              "\n",
              "          const docLinkHtml = 'Like what you see? Visit the ' +\n",
              "            '<a target=\"_blank\" href=https://colab.research.google.com/notebooks/data_table.ipynb>data table notebook</a>'\n",
              "            + ' to learn more about interactive tables.';\n",
              "          element.innerHTML = '';\n",
              "          dataTable['output_type'] = 'display_data';\n",
              "          await google.colab.output.renderOutput(dataTable, element);\n",
              "          const docLink = document.createElement('div');\n",
              "          docLink.innerHTML = docLinkHtml;\n",
              "          element.appendChild(docLink);\n",
              "        }\n",
              "      </script>\n",
              "    </div>\n",
              "  </div>\n",
              "  "
            ]
          },
          "metadata": {},
          "execution_count": 6
        }
      ]
    },
    {
      "cell_type": "code",
      "source": [
        "df_csv[\"Edad\"] # Para extraer columnas en particular."
      ],
      "metadata": {
        "colab": {
          "base_uri": "https://localhost:8080/"
        },
        "id": "k14e0X8-qeMU",
        "outputId": "277fbe98-0ac1-488e-f96d-7ccb019e7e88"
      },
      "execution_count": 7,
      "outputs": [
        {
          "output_type": "execute_result",
          "data": {
            "text/plain": [
              "0      20.0\n",
              "1      40.0\n",
              "2      24.0\n",
              "3      24.0\n",
              "4      23.0\n",
              "       ... \n",
              "775    21.0\n",
              "776    21.0\n",
              "777    20.0\n",
              "778     7.0\n",
              "779    24.0\n",
              "Name: Edad, Length: 780, dtype: float64"
            ]
          },
          "metadata": {},
          "execution_count": 7
        }
      ]
    },
    {
      "cell_type": "code",
      "source": [
        "df_csv.iloc[5] # Para extraer filas de la base de datos."
      ],
      "metadata": {
        "colab": {
          "base_uri": "https://localhost:8080/"
        },
        "id": "85ergGjbw0ck",
        "outputId": "90e64606-327b-4d1d-8d07-cd50dcd7ee2f"
      },
      "execution_count": 8,
      "outputs": [
        {
          "output_type": "execute_result",
          "data": {
            "text/plain": [
              "IDcompra                  5\n",
              "Usuario             Yalae81\n",
              "Edad                   22.0\n",
              "Genero                 Male\n",
              "ID                     81.0\n",
              "NombreArticulo    Dreamkiss\n",
              "Precio                 3.61\n",
              "Name: 5, dtype: object"
            ]
          },
          "metadata": {},
          "execution_count": 8
        }
      ]
    },
    {
      "cell_type": "code",
      "source": [
        "df_csv[\"Edad\"].iloc[650] # Extraigo información de un individuo en particular."
      ],
      "metadata": {
        "colab": {
          "base_uri": "https://localhost:8080/"
        },
        "id": "w6UJLbOZxHB2",
        "outputId": "2f2ac4ca-b1b6-44c1-ad9c-4d62cc0a324d"
      },
      "execution_count": 9,
      "outputs": [
        {
          "output_type": "execute_result",
          "data": {
            "text/plain": [
              "30.0"
            ]
          },
          "metadata": {},
          "execution_count": 9
        }
      ]
    },
    {
      "cell_type": "code",
      "source": [
        "len(df_csv) # Longitud de la data de compradores con repetición."
      ],
      "metadata": {
        "colab": {
          "base_uri": "https://localhost:8080/"
        },
        "id": "lKVJdn4bze2d",
        "outputId": "5b7f6e3c-372b-484d-a817-24ca5bdd7a05"
      },
      "execution_count": 10,
      "outputs": [
        {
          "output_type": "execute_result",
          "data": {
            "text/plain": [
              "780"
            ]
          },
          "metadata": {},
          "execution_count": 10
        }
      ]
    },
    {
      "cell_type": "code",
      "source": [
        "# Punto 1. a.(Número total de jugadores)."
      ],
      "metadata": {
        "id": "y6QAYvvA0VXF"
      },
      "execution_count": 11,
      "outputs": []
    },
    {
      "cell_type": "code",
      "source": [
        "len(np.unique(df_csv[\"Usuario\"])) # Longitud del vector sin repeticiones unique se encarga de eso."
      ],
      "metadata": {
        "colab": {
          "base_uri": "https://localhost:8080/"
        },
        "id": "s1fIcRD30hDc",
        "outputId": "289a5e0a-8505-4f44-8288-a80dd9212b54"
      },
      "execution_count": 12,
      "outputs": [
        {
          "output_type": "execute_result",
          "data": {
            "text/plain": [
              "576"
            ]
          },
          "metadata": {},
          "execution_count": 12
        }
      ]
    },
    {
      "cell_type": "code",
      "source": [
        "recuento= pd.DataFrame(np.unique(df_csv[\"Usuario\"],return_counts=True)).T # Para saber quienes se duplicaron y su frecuencia, construyo una tabla y la convierto en vertical."
      ],
      "metadata": {
        "id": "TxkJC3Sr0xPt"
      },
      "execution_count": 13,
      "outputs": []
    },
    {
      "cell_type": "code",
      "source": [
        "recuento_s=recuento.sort_values(by=1,ascending=False) # Ubico de mayor a menor la tabla."
      ],
      "metadata": {
        "id": "rvoUjur213gk"
      },
      "execution_count": 14,
      "outputs": []
    },
    {
      "cell_type": "code",
      "source": [
        "recuento_s[0].iloc[0] # Para averiguar el nombre de algún individuo en particular, aunque debo tener cocnocimineto de su posición al menos que sea una escogencia al azar. "
      ],
      "metadata": {
        "colab": {
          "base_uri": "https://localhost:8080/",
          "height": 35
        },
        "id": "GmjFHJcy5gml",
        "outputId": "8b2b157c-ec72-4254-c339-6e4813cf8f25"
      },
      "execution_count": 15,
      "outputs": [
        {
          "output_type": "execute_result",
          "data": {
            "text/plain": [
              "'Lisosia93'"
            ],
            "application/vnd.google.colaboratory.intrinsic+json": {
              "type": "string"
            }
          },
          "metadata": {},
          "execution_count": 15
        }
      ]
    },
    {
      "cell_type": "code",
      "source": [
        "df_csv[df_csv[\"Usuario\"]==\"Lisosia93\"][\"NombreArticulo\"] # Estadística bayesiana"
      ],
      "metadata": {
        "colab": {
          "base_uri": "https://localhost:8080/"
        },
        "id": "WJGSfW8I253u",
        "outputId": "e4dd21c5-8a67-4e29-8216-b75701301470"
      },
      "execution_count": 16,
      "outputs": [
        {
          "output_type": "execute_result",
          "data": {
            "text/plain": [
              "74     Blazefury, Protector of Delusions\n",
              "120                        Warped Fetish\n",
              "224              Spada, Etcher of Hatred\n",
              "603                           Persuasion\n",
              "609                        Second Chance\n",
              "Name: NombreArticulo, dtype: object"
            ]
          },
          "metadata": {},
          "execution_count": 16
        }
      ]
    },
    {
      "cell_type": "markdown",
      "source": [
        "Hay 576 usuarios distintos de los cuales Lisosia93 compro 5 veces, este ususario compro  Blazefury, Protector of Delusions, Warped Fetish, Spada, Etcher of Hatred, Persuasion y Second Chance.."
      ],
      "metadata": {
        "id": "brLNIXvR3XfP"
      }
    },
    {
      "cell_type": "code",
      "source": [
        "recuento_s.to_csv(\"datoscompra.csv\") # Para enviar a excel la base de datos."
      ],
      "metadata": {
        "id": "z2EFWDVU72y_"
      },
      "execution_count": 17,
      "outputs": []
    },
    {
      "cell_type": "code",
      "source": [
        "# Punto 2. a (Número de articulos unicos)"
      ],
      "metadata": {
        "id": "MmT2y2wB8LW6"
      },
      "execution_count": 18,
      "outputs": []
    },
    {
      "cell_type": "code",
      "source": [
        "len(np.unique(df_csv[\"ID\"])) # Permite conocer la longitud de la columna de ID sin repeticiones. "
      ],
      "metadata": {
        "colab": {
          "base_uri": "https://localhost:8080/"
        },
        "id": "22mWBAu-8v7m",
        "outputId": "1d5b09ab-c354-40e8-effc-de65bb5204f7"
      },
      "execution_count": 19,
      "outputs": [
        {
          "output_type": "execute_result",
          "data": {
            "text/plain": [
              "183"
            ]
          },
          "metadata": {},
          "execution_count": 19
        }
      ]
    },
    {
      "cell_type": "markdown",
      "source": [
        "El número total de articulos totales unicos es de 183."
      ],
      "metadata": {
        "id": "C4iggBX7mXVs"
      }
    },
    {
      "cell_type": "code",
      "source": [
        "# b. (Precio medio de compras)"
      ],
      "metadata": {
        "id": "wXX_9CU182Ft"
      },
      "execution_count": 20,
      "outputs": []
    },
    {
      "cell_type": "code",
      "source": [
        "df_csv[\"Precio\"].mean() # mean permite calcular la media o promedio de la variable indicada. "
      ],
      "metadata": {
        "colab": {
          "base_uri": "https://localhost:8080/"
        },
        "id": "vN6m6dNX9_w-",
        "outputId": "e19a8879-a264-4ade-fa3e-05fbc82c80ad"
      },
      "execution_count": 21,
      "outputs": [
        {
          "output_type": "execute_result",
          "data": {
            "text/plain": [
              "3.050987179487176"
            ]
          },
          "metadata": {},
          "execution_count": 21
        }
      ]
    },
    {
      "cell_type": "markdown",
      "source": [
        "El precio medio de compras que se puede evidenciar es de aproximadamente 3,05."
      ],
      "metadata": {
        "id": "V__xOZKpmiH6"
      }
    },
    {
      "cell_type": "code",
      "source": [
        "# c. (Número total de compras)"
      ],
      "metadata": {
        "id": "tbEKaxnQ-KV2"
      },
      "execution_count": 22,
      "outputs": []
    },
    {
      "cell_type": "code",
      "source": [
        "len(df_csv)"
      ],
      "metadata": {
        "colab": {
          "base_uri": "https://localhost:8080/"
        },
        "id": "kfX43q0p-5RQ",
        "outputId": "d087b2f0-861b-4d20-8923-1f83d533079a"
      },
      "execution_count": 23,
      "outputs": [
        {
          "output_type": "execute_result",
          "data": {
            "text/plain": [
              "780"
            ]
          },
          "metadata": {},
          "execution_count": 23
        }
      ]
    },
    {
      "cell_type": "markdown",
      "source": [
        "El número total de compras fue de 780. "
      ],
      "metadata": {
        "id": "o_AbTXNineF9"
      }
    },
    {
      "cell_type": "code",
      "source": [
        "# d. (Ingresos totales)"
      ],
      "metadata": {
        "id": "Yum4L4Q6-VKn"
      },
      "execution_count": 24,
      "outputs": []
    },
    {
      "cell_type": "code",
      "source": [
        "df_csv[\"Precio\"].sum() # Sum me permite hacer la suma de vectores en particular. "
      ],
      "metadata": {
        "colab": {
          "base_uri": "https://localhost:8080/"
        },
        "id": "A6rmAI2j-YMe",
        "outputId": "86a53174-e94d-4043-e03d-d5744d3b250f"
      },
      "execution_count": 25,
      "outputs": [
        {
          "output_type": "execute_result",
          "data": {
            "text/plain": [
              "2379.77"
            ]
          },
          "metadata": {},
          "execution_count": 25
        }
      ]
    },
    {
      "cell_type": "markdown",
      "source": [
        "Los ingresos totales obtenidos giran entorno a 2379,77 dolares. "
      ],
      "metadata": {
        "id": "eGKUUkJOnmgL"
      }
    },
    {
      "cell_type": "code",
      "source": [
        "# Punto 3. a. (Porcentaje y número de jugadores masculinos)"
      ],
      "metadata": {
        "id": "k5N1SeXr-al2"
      },
      "execution_count": 26,
      "outputs": []
    },
    {
      "cell_type": "code",
      "source": [
        "len(np.unique(df_csv[df_csv[\"Genero\"]==\"Male\"][\"Usuario\"])), np.round(len(np.unique(df_csv[df_csv[\"Genero\"]==\"Male\"][\"Usuario\"]))/576*100,2)"
      ],
      "metadata": {
        "colab": {
          "base_uri": "https://localhost:8080/"
        },
        "id": "gVhiq3Eo_XjX",
        "outputId": "1be31bb2-407f-43dd-ad66-2259674e544d"
      },
      "execution_count": 27,
      "outputs": [
        {
          "output_type": "execute_result",
          "data": {
            "text/plain": [
              "(484, 84.03)"
            ]
          },
          "metadata": {},
          "execution_count": 27
        }
      ]
    },
    {
      "cell_type": "markdown",
      "source": [
        "El porcentaje de hombres sin repetición es de aproximadamente 84% lo que equivale a 484 individuos."
      ],
      "metadata": {
        "id": "gealGsGbqKAz"
      }
    },
    {
      "cell_type": "code",
      "source": [
        "df_csv[\"Edad\"].plot() # Analisis exploratorio grafico de la variable Edad, a tráves de un plot. "
      ],
      "metadata": {
        "colab": {
          "base_uri": "https://localhost:8080/",
          "height": 282
        },
        "id": "yTzU1xXrBNgf",
        "outputId": "f3612559-e9a9-4b51-82db-d77e83b13e7f"
      },
      "execution_count": 28,
      "outputs": [
        {
          "output_type": "execute_result",
          "data": {
            "text/plain": [
              "<matplotlib.axes._subplots.AxesSubplot at 0x7f074a4442d0>"
            ]
          },
          "metadata": {},
          "execution_count": 28
        },
        {
          "output_type": "display_data",
          "data": {
            "text/plain": [
              "<Figure size 432x288 with 1 Axes>"
            ],
            "image/png": "[encoded data removed]"
          },
          "metadata": {
            "needs_background": "light"
          }
        }
      ]
    },
    {
      "cell_type": "code",
      "source": [
        "plt.scatter(df_csv[\"Edad\"],df_csv[\"Precio\"]) # Analisis exploratorio grafico bivariado de la variable Edad y Precio, a tráves de un plt.scatter. "
      ],
      "metadata": {
        "colab": {
          "base_uri": "https://localhost:8080/",
          "height": 282
        },
        "id": "_BKpQ2EkCmn_",
        "outputId": "9040af00-ae98-4e55-8874-7a81703b6ffc"
      },
      "execution_count": 29,
      "outputs": [
        {
          "output_type": "execute_result",
          "data": {
            "text/plain": [
              "<matplotlib.collections.PathCollection at 0x7f074a4281d0>"
            ]
          },
          "metadata": {},
          "execution_count": 29
        },
        {
          "output_type": "display_data",
          "data": {
            "text/plain": [
              "<Figure size 432x288 with 1 Axes>"
            ],
            "image/png": "[encoded data removed]"
          },
          "metadata": {
            "needs_background": "light"
          }
        }
      ]
    },
    {
      "cell_type": "code",
      "source": [
        "plt.hist(df_csv[\"Genero\"]) # Analisis exploratorio grafico de la variable Genero, a tráves de un hist (Histograma). "
      ],
      "metadata": {
        "colab": {
          "base_uri": "https://localhost:8080/",
          "height": 317
        },
        "id": "H8TwGQzSC5hf",
        "outputId": "d5163d68-c633-4358-9f8f-abd1d017c964"
      },
      "execution_count": 30,
      "outputs": [
        {
          "output_type": "execute_result",
          "data": {
            "text/plain": [
              "(array([652.,   0.,   0.,   0.,   0.,  15.,   0.,   0.,   0., 113.]),\n",
              " array([0. , 0.2, 0.4, 0.6, 0.8, 1. , 1.2, 1.4, 1.6, 1.8, 2. ]),\n",
              " <a list of 10 Patch objects>)"
            ]
          },
          "metadata": {},
          "execution_count": 30
        },
        {
          "output_type": "display_data",
          "data": {
            "text/plain": [
              "<Figure size 432x288 with 1 Axes>"
            ],
            "image/png": "[encoded data removed]"
          },
          "metadata": {
            "needs_background": "light"
          }
        }
      ]
    },
    {
      "cell_type": "code",
      "source": [
        "# b. (Porcentaje y número de jugadores femeninos)"
      ],
      "metadata": {
        "id": "fCfNwR2zuNd9"
      },
      "execution_count": 31,
      "outputs": []
    },
    {
      "cell_type": "code",
      "source": [
        "len(np.unique(df_csv[df_csv[\"Genero\"]==\"Female\"][\"Usuario\"])), np.round(len(np.unique(df_csv[df_csv[\"Genero\"]==\"Female\"][\"Usuario\"]))/576*100,2) # Total de Mujeres"
      ],
      "metadata": {
        "colab": {
          "base_uri": "https://localhost:8080/"
        },
        "id": "9VmpMeHoDe9g",
        "outputId": "ee3e9b84-fff2-46e8-9273-4c69196f4db7"
      },
      "execution_count": 32,
      "outputs": [
        {
          "output_type": "execute_result",
          "data": {
            "text/plain": [
              "(81, 14.06)"
            ]
          },
          "metadata": {},
          "execution_count": 32
        }
      ]
    },
    {
      "cell_type": "markdown",
      "source": [
        "El porcentaje de mujeres sin repetición es de aproximadamente 14% lo que equivale a 81 individuos."
      ],
      "metadata": {
        "id": "Z6h_HsY3t2fG"
      }
    },
    {
      "cell_type": "code",
      "source": [
        "# c. (Porcentaje y número de jugadores otros/ no revelados)"
      ],
      "metadata": {
        "id": "fYuhvezIuTd1"
      },
      "execution_count": 33,
      "outputs": []
    },
    {
      "cell_type": "code",
      "source": [
        "len(np.unique(df_csv[df_csv[\"Genero\"]==\"Other / Non-Disclosed\"][\"Usuario\"])), np.round(len(np.unique(df_csv[df_csv[\"Genero\"]==\"Other / Non-Disclosed\"][\"Usuario\"]))/576*100,2) # Total de no binarios"
      ],
      "metadata": {
        "colab": {
          "base_uri": "https://localhost:8080/"
        },
        "id": "JZO7-wGmD26n",
        "outputId": "1dc41fe7-6ec9-4679-9e6a-1be5786af93d"
      },
      "execution_count": 34,
      "outputs": [
        {
          "output_type": "execute_result",
          "data": {
            "text/plain": [
              "(11, 1.91)"
            ]
          },
          "metadata": {},
          "execution_count": 34
        }
      ]
    },
    {
      "cell_type": "markdown",
      "source": [
        "El porcentaje de otros o no revelados sin repetición es de aproximadamente 2% lo que equivale a 11 individuos."
      ],
      "metadata": {
        "id": "9EMOW8bXt3nl"
      }
    },
    {
      "cell_type": "code",
      "source": [
        "df_csv[~(df_csv[\"Genero\"]==\"Male\")&~(df_csv[\"Genero\"]==\"Female\")] # Para encontrar otras variables distintas a las nombradas."
      ],
      "metadata": {
        "colab": {
          "base_uri": "https://localhost:8080/",
          "height": 520
        },
        "id": "qJZxLYMfETd_",
        "outputId": "2a961db0-646e-4c2f-e864-dd64322983ce"
      },
      "execution_count": 35,
      "outputs": [
        {
          "output_type": "execute_result",
          "data": {
            "text/plain": [
              "     IDcompra       Usuario  Edad                 Genero     ID  \\\n",
              "9           9   Chanosian48  35.0  Other / Non-Disclosed  136.0   \n",
              "22         22  Siarithria38  38.0  Other / Non-Disclosed   24.0   \n",
              "82         82    Haerithp41  16.0  Other / Non-Disclosed  160.0   \n",
              "111       111      Sundim98  21.0  Other / Non-Disclosed   41.0   \n",
              "228       228   Jiskirran77  20.0  Other / Non-Disclosed   80.0   \n",
              "237       237     Idairin51  20.0  Other / Non-Disclosed   16.0   \n",
              "242       242     Eodaisu60  16.0  Other / Non-Disclosed   39.0   \n",
              "291       291     Idairin51  20.0  Other / Non-Disclosed   35.0   \n",
              "350       350     Rairith81  15.0  Other / Non-Disclosed   34.0   \n",
              "401       401      Lirtim36  15.0  Other / Non-Disclosed   46.0   \n",
              "484       484   Chanosian48  35.0  Other / Non-Disclosed   39.0   \n",
              "549       549    Maluncil97  25.0  Other / Non-Disclosed  146.0   \n",
              "629       629    Maluncil97  25.0  Other / Non-Disclosed  107.0   \n",
              "637       637        Airi27  24.0  Other / Non-Disclosed  163.0   \n",
              "747       747  Siarithria38  38.0  Other / Non-Disclosed  146.0   \n",
              "\n",
              "                           NombreArticulo  Precio  \n",
              "9            Ghastly Adamantite Protector    3.58  \n",
              "22                          Warped Fetish    3.81  \n",
              "82                             Azurewrath    4.40  \n",
              "111                                 Orbit    4.75  \n",
              "228                             Dreamsong    3.39  \n",
              "237                       Restored Bauble    3.55  \n",
              "242  Betrayal, Whisper of Grieving Widows    3.94  \n",
              "291              Heartless Bone Dualblade    3.45  \n",
              "350                       Retribution Axe    2.22  \n",
              "401               Hopeless Ebon Dualblade    1.33  \n",
              "484  Betrayal, Whisper of Grieving Widows    3.94  \n",
              "549                  Warped Iron Scimitar    3.10  \n",
              "629             Splitter, Foe Of Subtlety    2.18  \n",
              "637                  Thunderfury Scimitar    3.45  \n",
              "747                  Warped Iron Scimitar    3.10  "
            ],
            "text/html": [
              "\n",
              "  <div id=\"df-22dd98c6-74e1-47b4-ac3e-d65c8c024ff6\">\n",
              "    <div class=\"colab-df-container\">\n",
              "      <div>\n",
              "<style scoped>\n",
              "    .dataframe tbody tr th:only-of-type {\n",
              "        vertical-align: middle;\n",
              "    }\n",
              "\n",
              "    .dataframe tbody tr th {\n",
              "        vertical-align: top;\n",
              "    }\n",
              "\n",
              "    .dataframe thead th {\n",
              "        text-align: right;\n",
              "    }\n",
              "</style>\n",
              "<table border=\"1\" class=\"dataframe\">\n",
              "  <thead>\n",
              "    <tr style=\"text-align: right;\">\n",
              "      <th></th>\n",
              "      <th>IDcompra</th>\n",
              "      <th>Usuario</th>\n",
              "      <th>Edad</th>\n",
              "      <th>Genero</th>\n",
              "      <th>ID</th>\n",
              "      <th>NombreArticulo</th>\n",
              "      <th>Precio</th>\n",
              "    </tr>\n",
              "  </thead>\n",
              "  <tbody>\n",
              "    <tr>\n",
              "      <th>9</th>\n",
              "      <td>9</td>\n",
              "      <td>Chanosian48</td>\n",
              "      <td>35.0</td>\n",
              "      <td>Other / Non-Disclosed</td>\n",
              "      <td>136.0</td>\n",
              "      <td>Ghastly Adamantite Protector</td>\n",
              "      <td>3.58</td>\n",
              "    </tr>\n",
              "    <tr>\n",
              "      <th>22</th>\n",
              "      <td>22</td>\n",
              "      <td>Siarithria38</td>\n",
              "      <td>38.0</td>\n",
              "      <td>Other / Non-Disclosed</td>\n",
              "      <td>24.0</td>\n",
              "      <td>Warped Fetish</td>\n",
              "      <td>3.81</td>\n",
              "    </tr>\n",
              "    <tr>\n",
              "      <th>82</th>\n",
              "      <td>82</td>\n",
              "      <td>Haerithp41</td>\n",
              "      <td>16.0</td>\n",
              "      <td>Other / Non-Disclosed</td>\n",
              "      <td>160.0</td>\n",
              "      <td>Azurewrath</td>\n",
              "      <td>4.40</td>\n",
              "    </tr>\n",
              "    <tr>\n",
              "      <th>111</th>\n",
              "      <td>111</td>\n",
              "      <td>Sundim98</td>\n",
              "      <td>21.0</td>\n",
              "      <td>Other / Non-Disclosed</td>\n",
              "      <td>41.0</td>\n",
              "      <td>Orbit</td>\n",
              "      <td>4.75</td>\n",
              "    </tr>\n",
              "    <tr>\n",
              "      <th>228</th>\n",
              "      <td>228</td>\n",
              "      <td>Jiskirran77</td>\n",
              "      <td>20.0</td>\n",
              "      <td>Other / Non-Disclosed</td>\n",
              "      <td>80.0</td>\n",
              "      <td>Dreamsong</td>\n",
              "      <td>3.39</td>\n",
              "    </tr>\n",
              "    <tr>\n",
              "      <th>237</th>\n",
              "      <td>237</td>\n",
              "      <td>Idairin51</td>\n",
              "      <td>20.0</td>\n",
              "      <td>Other / Non-Disclosed</td>\n",
              "      <td>16.0</td>\n",
              "      <td>Restored Bauble</td>\n",
              "      <td>3.55</td>\n",
              "    </tr>\n",
              "    <tr>\n",
              "      <th>242</th>\n",
              "      <td>242</td>\n",
              "      <td>Eodaisu60</td>\n",
              "      <td>16.0</td>\n",
              "      <td>Other / Non-Disclosed</td>\n",
              "      <td>39.0</td>\n",
              "      <td>Betrayal, Whisper of Grieving Widows</td>\n",
              "      <td>3.94</td>\n",
              "    </tr>\n",
              "    <tr>\n",
              "      <th>291</th>\n",
              "      <td>291</td>\n",
              "      <td>Idairin51</td>\n",
              "      <td>20.0</td>\n",
              "      <td>Other / Non-Disclosed</td>\n",
              "      <td>35.0</td>\n",
              "      <td>Heartless Bone Dualblade</td>\n",
              "      <td>3.45</td>\n",
              "    </tr>\n",
              "    <tr>\n",
              "      <th>350</th>\n",
              "      <td>350</td>\n",
              "      <td>Rairith81</td>\n",
              "      <td>15.0</td>\n",
              "      <td>Other / Non-Disclosed</td>\n",
              "      <td>34.0</td>\n",
              "      <td>Retribution Axe</td>\n",
              "      <td>2.22</td>\n",
              "    </tr>\n",
              "    <tr>\n",
              "      <th>401</th>\n",
              "      <td>401</td>\n",
              "      <td>Lirtim36</td>\n",
              "      <td>15.0</td>\n",
              "      <td>Other / Non-Disclosed</td>\n",
              "      <td>46.0</td>\n",
              "      <td>Hopeless Ebon Dualblade</td>\n",
              "      <td>1.33</td>\n",
              "    </tr>\n",
              "    <tr>\n",
              "      <th>484</th>\n",
              "      <td>484</td>\n",
              "      <td>Chanosian48</td>\n",
              "      <td>35.0</td>\n",
              "      <td>Other / Non-Disclosed</td>\n",
              "      <td>39.0</td>\n",
              "      <td>Betrayal, Whisper of Grieving Widows</td>\n",
              "      <td>3.94</td>\n",
              "    </tr>\n",
              "    <tr>\n",
              "      <th>549</th>\n",
              "      <td>549</td>\n",
              "      <td>Maluncil97</td>\n",
              "      <td>25.0</td>\n",
              "      <td>Other / Non-Disclosed</td>\n",
              "      <td>146.0</td>\n",
              "      <td>Warped Iron Scimitar</td>\n",
              "      <td>3.10</td>\n",
              "    </tr>\n",
              "    <tr>\n",
              "      <th>629</th>\n",
              "      <td>629</td>\n",
              "      <td>Maluncil97</td>\n",
              "      <td>25.0</td>\n",
              "      <td>Other / Non-Disclosed</td>\n",
              "      <td>107.0</td>\n",
              "      <td>Splitter, Foe Of Subtlety</td>\n",
              "      <td>2.18</td>\n",
              "    </tr>\n",
              "    <tr>\n",
              "      <th>637</th>\n",
              "      <td>637</td>\n",
              "      <td>Airi27</td>\n",
              "      <td>24.0</td>\n",
              "      <td>Other / Non-Disclosed</td>\n",
              "      <td>163.0</td>\n",
              "      <td>Thunderfury Scimitar</td>\n",
              "      <td>3.45</td>\n",
              "    </tr>\n",
              "    <tr>\n",
              "      <th>747</th>\n",
              "      <td>747</td>\n",
              "      <td>Siarithria38</td>\n",
              "      <td>38.0</td>\n",
              "      <td>Other / Non-Disclosed</td>\n",
              "      <td>146.0</td>\n",
              "      <td>Warped Iron Scimitar</td>\n",
              "      <td>3.10</td>\n",
              "    </tr>\n",
              "  </tbody>\n",
              "</table>\n",
              "</div>\n",
              "      <button class=\"colab-df-convert\" onclick=\"convertToInteractive('df-22dd98c6-74e1-47b4-ac3e-d65c8c024ff6')\"\n",
              "              title=\"Convert this dataframe to an interactive table.\"\n",
              "              style=\"display:none;\">\n",
              "        \n",
              "  <svg xmlns=\"http://www.w3.org/2000/svg\" height=\"24px\"viewBox=\"0 0 24 24\"\n",
              "       width=\"24px\">\n",
              "    <path d=\"M0 0h24v24H0V0z\" fill=\"none\"/>\n",
              "    <path d=\"M18.56 5.44l.94 2.06.94-2.06 2.06-.94-2.06-.94-.94-2.06-.94 2.06-2.06.94zm-11 1L8.5 8.5l.94-2.06 2.06-.94-2.06-.94L8.5 2.5l-.94 2.06-2.06.94zm10 10l.94 2.06.94-2.06 2.06-.94-2.06-.94-.94-2.06-.94 2.06-2.06.94z\"/><path d=\"M17.41 7.96l-1.37-1.37c-.4-.4-.92-.59-1.43-.59-.52 0-1.04.2-1.43.59L10.3 9.45l-7.72 7.72c-.78.78-.78 2.05 0 2.83L4 21.41c.39.39.9.59 1.41.59.51 0 1.02-.2 1.41-.59l7.78-7.78 2.81-2.81c.8-.78.8-2.07 0-2.86zM5.41 20L4 18.59l7.72-7.72 1.47 1.35L5.41 20z\"/>\n",
              "  </svg>\n",
              "      </button>\n",
              "      \n",
              "  <style>\n",
              "    .colab-df-container {\n",
              "      display:flex;\n",
              "      flex-wrap:wrap;\n",
              "      gap: 12px;\n",
              "    }\n",
              "\n",
              "    .colab-df-convert {\n",
              "      background-color: #E8F0FE;\n",
              "      border: none;\n",
              "      border-radius: 50%;\n",
              "      cursor: pointer;\n",
              "      display: none;\n",
              "      fill: #1967D2;\n",
              "      height: 32px;\n",
              "      padding: 0 0 0 0;\n",
              "      width: 32px;\n",
              "    }\n",
              "\n",
              "    .colab-df-convert:hover {\n",
              "      background-color: #E2EBFA;\n",
              "      box-shadow: 0px 1px 2px rgba(60, 64, 67, 0.3), 0px 1px 3px 1px rgba(60, 64, 67, 0.15);\n",
              "      fill: #174EA6;\n",
              "    }\n",
              "\n",
              "    [theme=dark] .colab-df-convert {\n",
              "      background-color: #3B4455;\n",
              "      fill: #D2E3FC;\n",
              "    }\n",
              "\n",
              "    [theme=dark] .colab-df-convert:hover {\n",
              "      background-color: #434B5C;\n",
              "      box-shadow: 0px 1px 3px 1px rgba(0, 0, 0, 0.15);\n",
              "      filter: drop-shadow(0px 1px 2px rgba(0, 0, 0, 0.3));\n",
              "      fill: #FFFFFF;\n",
              "    }\n",
              "  </style>\n",
              "\n",
              "      <script>\n",
              "        const buttonEl =\n",
              "          document.querySelector('#df-22dd98c6-74e1-47b4-ac3e-d65c8c024ff6 button.colab-df-convert');\n",
              "        buttonEl.style.display =\n",
              "          google.colab.kernel.accessAllowed ? 'block' : 'none';\n",
              "\n",
              "        async function convertToInteractive(key) {\n",
              "          const element = document.querySelector('#df-22dd98c6-74e1-47b4-ac3e-d65c8c024ff6');\n",
              "          const dataTable =\n",
              "            await google.colab.kernel.invokeFunction('convertToInteractive',\n",
              "                                                     [key], {});\n",
              "          if (!dataTable) return;\n",
              "\n",
              "          const docLinkHtml = 'Like what you see? Visit the ' +\n",
              "            '<a target=\"_blank\" href=https://colab.research.google.com/notebooks/data_table.ipynb>data table notebook</a>'\n",
              "            + ' to learn more about interactive tables.';\n",
              "          element.innerHTML = '';\n",
              "          dataTable['output_type'] = 'display_data';\n",
              "          await google.colab.output.renderOutput(dataTable, element);\n",
              "          const docLink = document.createElement('div');\n",
              "          docLink.innerHTML = docLinkHtml;\n",
              "          element.appendChild(docLink);\n",
              "        }\n",
              "      </script>\n",
              "    </div>\n",
              "  </div>\n",
              "  "
            ]
          },
          "metadata": {},
          "execution_count": 35
        }
      ]
    },
    {
      "cell_type": "code",
      "source": [
        "# Punto 4. a. (Recuento de compras)"
      ],
      "metadata": {
        "id": "fherM10NFEm_"
      },
      "execution_count": 36,
      "outputs": []
    },
    {
      "cell_type": "code",
      "source": [
        "len(df_csv[(df_csv[\"Genero\"]==\"Male\")][\"Precio\"])"
      ],
      "metadata": {
        "colab": {
          "base_uri": "https://localhost:8080/"
        },
        "id": "-QNmvsBTGOvf",
        "outputId": "c4a57fac-8fa9-44b0-bbf3-d830857004c0"
      },
      "execution_count": 37,
      "outputs": [
        {
          "output_type": "execute_result",
          "data": {
            "text/plain": [
              "652"
            ]
          },
          "metadata": {},
          "execution_count": 37
        }
      ]
    },
    {
      "cell_type": "code",
      "source": [
        "len(df_csv[(df_csv[\"Genero\"]==\"Female\")][\"Precio\"])"
      ],
      "metadata": {
        "colab": {
          "base_uri": "https://localhost:8080/"
        },
        "id": "JegC4PYOGc6v",
        "outputId": "2320bb0f-0746-46db-ee75-64e2102975d6"
      },
      "execution_count": 38,
      "outputs": [
        {
          "output_type": "execute_result",
          "data": {
            "text/plain": [
              "113"
            ]
          },
          "metadata": {},
          "execution_count": 38
        }
      ]
    },
    {
      "cell_type": "code",
      "source": [
        "len(df_csv[(df_csv[\"Genero\"]==\"Other / Non-Disclosed\")][\"Precio\"])"
      ],
      "metadata": {
        "colab": {
          "base_uri": "https://localhost:8080/"
        },
        "id": "NPEIueeHGuUf",
        "outputId": "4945ea02-f482-4d12-fb05-2b6b21c5f09a"
      },
      "execution_count": 39,
      "outputs": [
        {
          "output_type": "execute_result",
          "data": {
            "text/plain": [
              "15"
            ]
          },
          "metadata": {},
          "execution_count": 39
        }
      ]
    },
    {
      "cell_type": "code",
      "source": [
        "pd.DataFrame(np.unique(df_csv[\"Genero\"],return_counts=True)) # Para realizar conteo"
      ],
      "metadata": {
        "colab": {
          "base_uri": "https://localhost:8080/",
          "height": 112
        },
        "id": "Ukuo97NPG9TA",
        "outputId": "c8483e91-87d5-42cc-827a-a866ce200629"
      },
      "execution_count": 40,
      "outputs": [
        {
          "output_type": "execute_result",
          "data": {
            "text/plain": [
              "        0     1                      2\n",
              "0  Female  Male  Other / Non-Disclosed\n",
              "1     113   652                     15"
            ],
            "text/html": [
              "\n",
              "  <div id=\"df-93c17e52-614f-4d31-8bf0-2b818d1d9798\">\n",
              "    <div class=\"colab-df-container\">\n",
              "      <div>\n",
              "<style scoped>\n",
              "    .dataframe tbody tr th:only-of-type {\n",
              "        vertical-align: middle;\n",
              "    }\n",
              "\n",
              "    .dataframe tbody tr th {\n",
              "        vertical-align: top;\n",
              "    }\n",
              "\n",
              "    .dataframe thead th {\n",
              "        text-align: right;\n",
              "    }\n",
              "</style>\n",
              "<table border=\"1\" class=\"dataframe\">\n",
              "  <thead>\n",
              "    <tr style=\"text-align: right;\">\n",
              "      <th></th>\n",
              "      <th>0</th>\n",
              "      <th>1</th>\n",
              "      <th>2</th>\n",
              "    </tr>\n",
              "  </thead>\n",
              "  <tbody>\n",
              "    <tr>\n",
              "      <th>0</th>\n",
              "      <td>Female</td>\n",
              "      <td>Male</td>\n",
              "      <td>Other / Non-Disclosed</td>\n",
              "    </tr>\n",
              "    <tr>\n",
              "      <th>1</th>\n",
              "      <td>113</td>\n",
              "      <td>652</td>\n",
              "      <td>15</td>\n",
              "    </tr>\n",
              "  </tbody>\n",
              "</table>\n",
              "</div>\n",
              "      <button class=\"colab-df-convert\" onclick=\"convertToInteractive('df-93c17e52-614f-4d31-8bf0-2b818d1d9798')\"\n",
              "              title=\"Convert this dataframe to an interactive table.\"\n",
              "              style=\"display:none;\">\n",
              "        \n",
              "  <svg xmlns=\"http://www.w3.org/2000/svg\" height=\"24px\"viewBox=\"0 0 24 24\"\n",
              "       width=\"24px\">\n",
              "    <path d=\"M0 0h24v24H0V0z\" fill=\"none\"/>\n",
              "    <path d=\"M18.56 5.44l.94 2.06.94-2.06 2.06-.94-2.06-.94-.94-2.06-.94 2.06-2.06.94zm-11 1L8.5 8.5l.94-2.06 2.06-.94-2.06-.94L8.5 2.5l-.94 2.06-2.06.94zm10 10l.94 2.06.94-2.06 2.06-.94-2.06-.94-.94-2.06-.94 2.06-2.06.94z\"/><path d=\"M17.41 7.96l-1.37-1.37c-.4-.4-.92-.59-1.43-.59-.52 0-1.04.2-1.43.59L10.3 9.45l-7.72 7.72c-.78.78-.78 2.05 0 2.83L4 21.41c.39.39.9.59 1.41.59.51 0 1.02-.2 1.41-.59l7.78-7.78 2.81-2.81c.8-.78.8-2.07 0-2.86zM5.41 20L4 18.59l7.72-7.72 1.47 1.35L5.41 20z\"/>\n",
              "  </svg>\n",
              "      </button>\n",
              "      \n",
              "  <style>\n",
              "    .colab-df-container {\n",
              "      display:flex;\n",
              "      flex-wrap:wrap;\n",
              "      gap: 12px;\n",
              "    }\n",
              "\n",
              "    .colab-df-convert {\n",
              "      background-color: #E8F0FE;\n",
              "      border: none;\n",
              "      border-radius: 50%;\n",
              "      cursor: pointer;\n",
              "      display: none;\n",
              "      fill: #1967D2;\n",
              "      height: 32px;\n",
              "      padding: 0 0 0 0;\n",
              "      width: 32px;\n",
              "    }\n",
              "\n",
              "    .colab-df-convert:hover {\n",
              "      background-color: #E2EBFA;\n",
              "      box-shadow: 0px 1px 2px rgba(60, 64, 67, 0.3), 0px 1px 3px 1px rgba(60, 64, 67, 0.15);\n",
              "      fill: #174EA6;\n",
              "    }\n",
              "\n",
              "    [theme=dark] .colab-df-convert {\n",
              "      background-color: #3B4455;\n",
              "      fill: #D2E3FC;\n",
              "    }\n",
              "\n",
              "    [theme=dark] .colab-df-convert:hover {\n",
              "      background-color: #434B5C;\n",
              "      box-shadow: 0px 1px 3px 1px rgba(0, 0, 0, 0.15);\n",
              "      filter: drop-shadow(0px 1px 2px rgba(0, 0, 0, 0.3));\n",
              "      fill: #FFFFFF;\n",
              "    }\n",
              "  </style>\n",
              "\n",
              "      <script>\n",
              "        const buttonEl =\n",
              "          document.querySelector('#df-93c17e52-614f-4d31-8bf0-2b818d1d9798 button.colab-df-convert');\n",
              "        buttonEl.style.display =\n",
              "          google.colab.kernel.accessAllowed ? 'block' : 'none';\n",
              "\n",
              "        async function convertToInteractive(key) {\n",
              "          const element = document.querySelector('#df-93c17e52-614f-4d31-8bf0-2b818d1d9798');\n",
              "          const dataTable =\n",
              "            await google.colab.kernel.invokeFunction('convertToInteractive',\n",
              "                                                     [key], {});\n",
              "          if (!dataTable) return;\n",
              "\n",
              "          const docLinkHtml = 'Like what you see? Visit the ' +\n",
              "            '<a target=\"_blank\" href=https://colab.research.google.com/notebooks/data_table.ipynb>data table notebook</a>'\n",
              "            + ' to learn more about interactive tables.';\n",
              "          element.innerHTML = '';\n",
              "          dataTable['output_type'] = 'display_data';\n",
              "          await google.colab.output.renderOutput(dataTable, element);\n",
              "          const docLink = document.createElement('div');\n",
              "          docLink.innerHTML = docLinkHtml;\n",
              "          element.appendChild(docLink);\n",
              "        }\n",
              "      </script>\n",
              "    </div>\n",
              "  </div>\n",
              "  "
            ]
          },
          "metadata": {},
          "execution_count": 40
        }
      ]
    },
    {
      "cell_type": "code",
      "source": [
        "plt.pie(np.unique(df_csv[\"Genero\"],return_counts=True)[1],  # Analisis exploratorio grafico de la variable Genero, a tráves de un pie (diagrama de torta)\n",
        "        labels=np.unique(df_csv[\"Genero\"],return_counts=True)[0])\n",
        "plt.show()"
      ],
      "metadata": {
        "colab": {
          "base_uri": "https://localhost:8080/",
          "height": 248
        },
        "id": "YYMLL4kaHSCG",
        "outputId": "3c44a230-ebf3-41bb-a2f0-c3fef62de282"
      },
      "execution_count": 41,
      "outputs": [
        {
          "output_type": "display_data",
          "data": {
            "text/plain": [
              "<Figure size 432x288 with 1 Axes>"
            ],
            "image/png": "[encoded data removed]"
          },
          "metadata": {}
        }
      ]
    },
    {
      "cell_type": "markdown",
      "source": [
        "A traves del diagrama circular se puede evidenciar visualmente que el mayor porcentaje de participantes en el juego son hombres y el menor porcentaje lo ocupan otros o no revelados."
      ],
      "metadata": {
        "id": "R96-oFZxp4Pc"
      }
    },
    {
      "cell_type": "code",
      "source": [
        "# b. (Precio medio de compras)"
      ],
      "metadata": {
        "id": "PVubUbSkvD-O"
      },
      "execution_count": 42,
      "outputs": []
    },
    {
      "cell_type": "code",
      "source": [
        "(df_csv[(df_csv[\"Genero\"]==\"Male\")][\"Precio\"]).mean()"
      ],
      "metadata": {
        "colab": {
          "base_uri": "https://localhost:8080/"
        },
        "id": "PRpq4ZVWKe-g",
        "outputId": "0dccb61f-ff6d-4684-e3be-02211aed7f39"
      },
      "execution_count": 43,
      "outputs": [
        {
          "output_type": "execute_result",
          "data": {
            "text/plain": [
              "3.0178527607361953"
            ]
          },
          "metadata": {},
          "execution_count": 43
        }
      ]
    },
    {
      "cell_type": "markdown",
      "source": [
        "El precio promedio de compras correspondiente a hombres es de aproximadamente 3.02 dolares. "
      ],
      "metadata": {
        "id": "gOpkDvq_rel3"
      }
    },
    {
      "cell_type": "code",
      "source": [
        "(df_csv[(df_csv[\"Genero\"]==\"Female\")][\"Precio\"]).mean()"
      ],
      "metadata": {
        "colab": {
          "base_uri": "https://localhost:8080/"
        },
        "id": "Ox296w9jK3jX",
        "outputId": "5ef3d0e1-be97-4c97-9ace-ef611c95aca2"
      },
      "execution_count": 44,
      "outputs": [
        {
          "output_type": "execute_result",
          "data": {
            "text/plain": [
              "3.203008849557519"
            ]
          },
          "metadata": {},
          "execution_count": 44
        }
      ]
    },
    {
      "cell_type": "markdown",
      "source": [
        "El precio promedio de compras correspondiente a mujeres es de aproximadamente 3.2 dolares."
      ],
      "metadata": {
        "id": "zpg4eZ1kruDV"
      }
    },
    {
      "cell_type": "code",
      "source": [
        "(df_csv[(df_csv[\"Genero\"]==\"Other / Non-Disclosed\")][\"Precio\"]).mean()"
      ],
      "metadata": {
        "colab": {
          "base_uri": "https://localhost:8080/"
        },
        "id": "bVtIvoLTLC-Z",
        "outputId": "e9e9fb6f-f08f-40f0-e47f-95ce6726db88"
      },
      "execution_count": 45,
      "outputs": [
        {
          "output_type": "execute_result",
          "data": {
            "text/plain": [
              "3.3460000000000005"
            ]
          },
          "metadata": {},
          "execution_count": 45
        }
      ]
    },
    {
      "cell_type": "markdown",
      "source": [
        "El precio promedio de compras correspondiente a hombres es de aproximadamente 3.35 dolares. "
      ],
      "metadata": {
        "id": "p7Y84a3-rzYo"
      }
    },
    {
      "cell_type": "code",
      "source": [
        "# c. (Total medio de compras por persona por género)"
      ],
      "metadata": {
        "id": "Ig3-XZqdvUqs"
      },
      "execution_count": 46,
      "outputs": []
    },
    {
      "cell_type": "code",
      "source": [
        "for i in np.unique(df_csv[\"Genero\"]):\n",
        "  print(i,np.round(df_csv[df_csv[\"Genero\"]==i][\"Precio\"].mean(),2))\n",
        "\n",
        "print(\"=====================================================\")\n",
        "\n",
        "for i in np.unique(df_csv[\"Genero\"]):\n",
        "  print(i,np.round(df_csv[df_csv[\"Genero\"]==i][\"Precio\"].sum(),2))"
      ],
      "metadata": {
        "colab": {
          "base_uri": "https://localhost:8080/"
        },
        "id": "q3s-kY9MLGmn",
        "outputId": "76b5d3fc-654b-43fb-b1b3-bbd8fe0443b3"
      },
      "execution_count": 47,
      "outputs": [
        {
          "output_type": "stream",
          "name": "stdout",
          "text": [
            "Female 3.2\n",
            "Male 3.02\n",
            "Other / Non-Disclosed 3.35\n",
            "=====================================================\n",
            "Female 361.94\n",
            "Male 1967.64\n",
            "Other / Non-Disclosed 50.19\n"
          ]
        }
      ]
    },
    {
      "cell_type": "code",
      "source": [
        "# Punto5. a. (Recuento de compras)"
      ],
      "metadata": {
        "id": "HtXRhK8JzHJ3"
      },
      "execution_count": 48,
      "outputs": []
    },
    {
      "cell_type": "code",
      "source": [
        "# Número de personas por intervalo de edad"
      ],
      "metadata": {
        "id": "VZsZPHcNKllx"
      },
      "execution_count": 49,
      "outputs": []
    },
    {
      "cell_type": "code",
      "source": [
        "len(df_csv.loc[(df_csv[\"Edad\"]>=7.0) & (df_csv[\"Edad\"]<11.0),:]) # Permite conocer la cantidad de personas que se encuentran dentro del itervalo de edad solicitado, en este caso mayores o iguales a siete pero menores que once."
      ],
      "metadata": {
        "id": "9rzJQAfATVQB",
        "colab": {
          "base_uri": "https://localhost:8080/"
        },
        "outputId": "80d64649-74cd-4dff-d74c-4c69c81c47a9"
      },
      "execution_count": 50,
      "outputs": [
        {
          "output_type": "execute_result",
          "data": {
            "text/plain": [
              "32"
            ]
          },
          "metadata": {},
          "execution_count": 50
        }
      ]
    },
    {
      "cell_type": "code",
      "source": [
        "len(df_csv.loc[(df_csv[\"Edad\"]>=11) & (df_csv[\"Edad\"]<15),:])"
      ],
      "metadata": {
        "id": "ju8eeVwKfqZN",
        "colab": {
          "base_uri": "https://localhost:8080/"
        },
        "outputId": "946d06ec-c1db-4c06-f077-8713e5750b2a"
      },
      "execution_count": 51,
      "outputs": [
        {
          "output_type": "execute_result",
          "data": {
            "text/plain": [
              "19"
            ]
          },
          "metadata": {},
          "execution_count": 51
        }
      ]
    },
    {
      "cell_type": "code",
      "source": [
        "len(df_csv.loc[(df_csv[\"Edad\"]>=15) & (df_csv[\"Edad\"]<19),:])"
      ],
      "metadata": {
        "id": "0VFeIWYWf-PO",
        "colab": {
          "base_uri": "https://localhost:8080/"
        },
        "outputId": "44f3009b-0234-43bd-eb0c-7bb4b8d597c0"
      },
      "execution_count": 52,
      "outputs": [
        {
          "output_type": "execute_result",
          "data": {
            "text/plain": [
              "113"
            ]
          },
          "metadata": {},
          "execution_count": 52
        }
      ]
    },
    {
      "cell_type": "code",
      "source": [
        "len(df_csv.loc[(df_csv[\"Edad\"]>=19) & (df_csv[\"Edad\"]<23),:])"
      ],
      "metadata": {
        "id": "MMNgslA0gw4H",
        "colab": {
          "base_uri": "https://localhost:8080/"
        },
        "outputId": "cdfec2a4-9d54-4794-981c-95aae6de60f5"
      },
      "execution_count": 53,
      "outputs": [
        {
          "output_type": "execute_result",
          "data": {
            "text/plain": [
              "254"
            ]
          },
          "metadata": {},
          "execution_count": 53
        }
      ]
    },
    {
      "cell_type": "code",
      "source": [
        "len(df_csv.loc[(df_csv[\"Edad\"]>=23) & (df_csv[\"Edad\"]<27),:])"
      ],
      "metadata": {
        "id": "4rQ9PQ10h1BG",
        "colab": {
          "base_uri": "https://localhost:8080/"
        },
        "outputId": "1304b9e1-34a7-4049-9787-b7d628920eaa"
      },
      "execution_count": 54,
      "outputs": [
        {
          "output_type": "execute_result",
          "data": {
            "text/plain": [
              "207"
            ]
          },
          "metadata": {},
          "execution_count": 54
        }
      ]
    },
    {
      "cell_type": "code",
      "source": [
        "len(df_csv.loc[(df_csv[\"Edad\"]>=27) & (df_csv[\"Edad\"]<31),:])"
      ],
      "metadata": {
        "id": "WhdMSjXbiaV9",
        "colab": {
          "base_uri": "https://localhost:8080/"
        },
        "outputId": "b61be7e8-d6c6-400f-e6e3-272df7481635"
      },
      "execution_count": 55,
      "outputs": [
        {
          "output_type": "execute_result",
          "data": {
            "text/plain": [
              "63"
            ]
          },
          "metadata": {},
          "execution_count": 55
        }
      ]
    },
    {
      "cell_type": "code",
      "source": [
        "len(df_csv.loc[(df_csv[\"Edad\"]>=31) & (df_csv[\"Edad\"]<35),:])"
      ],
      "metadata": {
        "id": "JI277B1jidFn",
        "colab": {
          "base_uri": "https://localhost:8080/"
        },
        "outputId": "1b2edfd4-5ae4-4e2f-9ca0-75ff55ae46cf"
      },
      "execution_count": 56,
      "outputs": [
        {
          "output_type": "execute_result",
          "data": {
            "text/plain": [
              "38"
            ]
          },
          "metadata": {},
          "execution_count": 56
        }
      ]
    },
    {
      "cell_type": "code",
      "source": [
        "len(df_csv.loc[(df_csv[\"Edad\"]>=35) & (df_csv[\"Edad\"]<39),:])"
      ],
      "metadata": {
        "id": "vCjnQHCSigfX",
        "colab": {
          "base_uri": "https://localhost:8080/"
        },
        "outputId": "c8a0194e-67cd-40d8-e3bd-da068da2adc1"
      },
      "execution_count": 57,
      "outputs": [
        {
          "output_type": "execute_result",
          "data": {
            "text/plain": [
              "35"
            ]
          },
          "metadata": {},
          "execution_count": 57
        }
      ]
    },
    {
      "cell_type": "code",
      "source": [
        "len(df_csv.loc[(df_csv[\"Edad\"]>=39) & (df_csv[\"Edad\"]<43),:])"
      ],
      "metadata": {
        "id": "3n8NzjsvinJH",
        "colab": {
          "base_uri": "https://localhost:8080/"
        },
        "outputId": "acf1a68d-addb-4f00-f91d-bd6c4398852b"
      },
      "execution_count": 58,
      "outputs": [
        {
          "output_type": "execute_result",
          "data": {
            "text/plain": [
              "15"
            ]
          },
          "metadata": {},
          "execution_count": 58
        }
      ]
    },
    {
      "cell_type": "code",
      "source": [
        "# Punto c. (Valor total de las compras por edad)"
      ],
      "metadata": {
        "id": "IknYzmfUKvId"
      },
      "execution_count": 59,
      "outputs": []
    },
    {
      "cell_type": "code",
      "source": [
        "nEdades=np.sort(np.unique(df_csv[\"Edad\"])) # El ciclo permite hallar la suma total de compras de personas por intervalos. \n",
        "\n",
        "iE=nEdades[0]\n",
        "\n",
        "fE=nEdades[0]\n",
        "\n",
        "n=len(nEdades)\n",
        "\n",
        "for i in nEdades:\n",
        "\n",
        "    fE+=4\n",
        "\n",
        "    if(fE<nEdades[n-1]):\n",
        "\n",
        "        print(\"Entre \",iE,\" y \",fE)\n",
        "\n",
        "        print(df_csv.loc[(df_csv[\"Edad\"]>=iE) & (df_csv[\"Edad\"]<=fE),:][\"Precio\"].sum())\n",
        "\n",
        "    iE=fE"
      ],
      "metadata": {
        "id": "7odmC-s-I7_a",
        "colab": {
          "base_uri": "https://localhost:8080/"
        },
        "outputId": "c3c2b96c-8536-4d52-9c9f-cc55f7d2b2c7"
      },
      "execution_count": 60,
      "outputs": [
        {
          "output_type": "stream",
          "name": "stdout",
          "text": [
            "Entre  7.0  y  11.0\n",
            "127.75000000000001\n",
            "Entre  11.0  y  15.0\n",
            "156.60000000000002\n",
            "Entre  15.0  y  19.0\n",
            "412.89\n",
            "Entre  19.0  y  23.0\n",
            "973.8199999999999\n",
            "Entre  23.0  y  27.0\n",
            "661.47\n",
            "Entre  27.0  y  31.0\n",
            "205.27999999999997\n",
            "Entre  31.0  y  35.0\n",
            "155.71000000000004\n",
            "Entre  35.0  y  39.0\n",
            "147.67\n",
            "Entre  39.0  y  43.0\n",
            "54.5\n"
          ]
        }
      ]
    },
    {
      "cell_type": "code",
      "source": [
        "# Punto b. (Precio medio de compra)"
      ],
      "metadata": {
        "id": "-ZnLcjzPHPuZ"
      },
      "execution_count": 61,
      "outputs": []
    },
    {
      "cell_type": "code",
      "source": [
        "nEdades=np.sort(np.unique(df_csv[\"Edad\"])) # El ciclo permite hallar la media total de compras de personas por intervalos.\n",
        "\n",
        "iE=nEdades[0]\n",
        "\n",
        "fE=nEdades[0]\n",
        "\n",
        "n=len(nEdades)\n",
        "\n",
        "for i in nEdades:\n",
        "\n",
        "    fE+=4\n",
        "\n",
        "    if(fE<nEdades[n-1]):\n",
        "\n",
        "        print(\"Entre \",iE,\" y \",fE)\n",
        "\n",
        "        print(df_csv.loc[(df_csv[\"Edad\"]>=iE) & (df_csv[\"Edad\"]<=fE),:][\"Precio\"].mean())\n",
        "\n",
        "    iE=fE"
      ],
      "metadata": {
        "colab": {
          "base_uri": "https://localhost:8080/"
        },
        "id": "aGy7DD3cK69g",
        "outputId": "ddebbed0-c180-4ecf-b049-e7035be6246e"
      },
      "execution_count": 62,
      "outputs": [
        {
          "output_type": "stream",
          "name": "stdout",
          "text": [
            "Entre  7.0  y  11.0\n",
            "3.275641025641025\n",
            "Entre  11.0  y  15.0\n",
            "2.9000000000000004\n",
            "Entre  15.0  y  19.0\n",
            "3.03595588235294\n",
            "Entre  19.0  y  23.0\n",
            "3.0337071651090346\n",
            "Entre  23.0  y  27.0\n",
            "3.048248847926267\n",
            "Entre  27.0  y  31.0\n",
            "2.9325714285714284\n",
            "Entre  31.0  y  35.0\n",
            "2.9944230769230775\n",
            "Entre  35.0  y  39.0\n",
            "3.6017073170731706\n",
            "Entre  39.0  y  43.0\n",
            "3.40625\n"
          ]
        }
      ]
    },
    {
      "cell_type": "code",
      "source": [
        "# Punto d. (Promedio de compras totales por persona por grupo de edad)"
      ],
      "metadata": {
        "id": "-tSXEfEYQOcL"
      },
      "execution_count": 63,
      "outputs": []
    },
    {
      "cell_type": "code",
      "source": [
        "(3.275641025641025/32)*100"
      ],
      "metadata": {
        "colab": {
          "base_uri": "https://localhost:8080/"
        },
        "id": "_q1p3ce1LFuU",
        "outputId": "3797c613-1ab8-460e-83ee-145e9441ab10"
      },
      "execution_count": 64,
      "outputs": [
        {
          "output_type": "execute_result",
          "data": {
            "text/plain": [
              "10.236378205128203"
            ]
          },
          "metadata": {},
          "execution_count": 64
        }
      ]
    },
    {
      "cell_type": "markdown",
      "source": [
        "El promedio de compras totales por personas de edad de 7 a 10 años es de 10.23 aproximadamente."
      ],
      "metadata": {
        "id": "w0oi6_IW_uuM"
      }
    },
    {
      "cell_type": "code",
      "source": [
        "(2.9000000000000004/19)*100"
      ],
      "metadata": {
        "colab": {
          "base_uri": "https://localhost:8080/"
        },
        "id": "PbF2rdntQser",
        "outputId": "a61b6f6f-4840-4704-ccfe-a46e430abba8"
      },
      "execution_count": 65,
      "outputs": [
        {
          "output_type": "execute_result",
          "data": {
            "text/plain": [
              "15.263157894736846"
            ]
          },
          "metadata": {},
          "execution_count": 65
        }
      ]
    },
    {
      "cell_type": "markdown",
      "source": [
        "El promedio de compras totales por personas de edad de 11 a 14 años es de 15.27 aproximadamente."
      ],
      "metadata": {
        "id": "ppQfeM4c_0fz"
      }
    },
    {
      "cell_type": "code",
      "source": [
        "(3.03595588235294/113)*100"
      ],
      "metadata": {
        "colab": {
          "base_uri": "https://localhost:8080/"
        },
        "id": "Tr2qY-8BR78h",
        "outputId": "6e3ebed4-1bc8-4008-d149-ebe74cb89280"
      },
      "execution_count": 66,
      "outputs": [
        {
          "output_type": "execute_result",
          "data": {
            "text/plain": [
              "2.6866866215512744"
            ]
          },
          "metadata": {},
          "execution_count": 66
        }
      ]
    },
    {
      "cell_type": "markdown",
      "source": [
        "El promedio de compras totales por personas de edad de 15 a 18 años es de 2.69 aproximadamente."
      ],
      "metadata": {
        "id": "JuILO4-kALKW"
      }
    },
    {
      "cell_type": "code",
      "source": [
        "(3.0337071651090346/254)*100"
      ],
      "metadata": {
        "colab": {
          "base_uri": "https://localhost:8080/"
        },
        "id": "65o7BhDgSLgK",
        "outputId": "4bcdd005-5dd4-452a-e6f5-ca455292bbff"
      },
      "execution_count": 67,
      "outputs": [
        {
          "output_type": "execute_result",
          "data": {
            "text/plain": [
              "1.1943728996492262"
            ]
          },
          "metadata": {},
          "execution_count": 67
        }
      ]
    },
    {
      "cell_type": "markdown",
      "source": [
        "El promedio de compras totales por personas de edad de 19 a 22 años es de 1.20 aproximadamente."
      ],
      "metadata": {
        "id": "DZNeyWHhATFL"
      }
    },
    {
      "cell_type": "code",
      "source": [
        "(3.048248847926267/207)*100"
      ],
      "metadata": {
        "colab": {
          "base_uri": "https://localhost:8080/"
        },
        "id": "379xOGF3SMwe",
        "outputId": "415ab38f-b370-4142-9c12-27af5362a671"
      },
      "execution_count": 68,
      "outputs": [
        {
          "output_type": "execute_result",
          "data": {
            "text/plain": [
              "1.472583984505443"
            ]
          },
          "metadata": {},
          "execution_count": 68
        }
      ]
    },
    {
      "cell_type": "markdown",
      "source": [
        "El promedio de compras totales por personas de edad de 23 a 26 años es de 1.48 aproximadamente."
      ],
      "metadata": {
        "id": "bHeHvJHSAaY2"
      }
    },
    {
      "cell_type": "code",
      "source": [
        "(2.9325714285714284/63)*100"
      ],
      "metadata": {
        "colab": {
          "base_uri": "https://localhost:8080/"
        },
        "id": "dt9uehE0SPa4",
        "outputId": "59877af3-928b-4b14-f5ab-4f470cc45dd5"
      },
      "execution_count": 69,
      "outputs": [
        {
          "output_type": "execute_result",
          "data": {
            "text/plain": [
              "4.654875283446712"
            ]
          },
          "metadata": {},
          "execution_count": 69
        }
      ]
    },
    {
      "cell_type": "markdown",
      "source": [
        "El promedio de compras totales por personas de edad de 27 a 30 años es de 4.65 aproximadamente."
      ],
      "metadata": {
        "id": "0e9T9Su_AkXt"
      }
    },
    {
      "cell_type": "code",
      "source": [
        "(2.9944230769230775/38)*100"
      ],
      "metadata": {
        "colab": {
          "base_uri": "https://localhost:8080/"
        },
        "id": "CGUG3FtBSQQj",
        "outputId": "84e32214-5402-4eb7-8b77-41ee58539f1b"
      },
      "execution_count": 70,
      "outputs": [
        {
          "output_type": "execute_result",
          "data": {
            "text/plain": [
              "7.88006072874494"
            ]
          },
          "metadata": {},
          "execution_count": 70
        }
      ]
    },
    {
      "cell_type": "markdown",
      "source": [
        "El promedio de compras totales por personas de edad de 31 a 34 años es de 7.88 aproximadamente."
      ],
      "metadata": {
        "id": "THeqnKq-Apz6"
      }
    },
    {
      "cell_type": "code",
      "source": [
        "(3.6017073170731706/35)*100"
      ],
      "metadata": {
        "colab": {
          "base_uri": "https://localhost:8080/"
        },
        "id": "7k_AhIq6ST2w",
        "outputId": "47cac5d7-0b82-40e5-876b-d32f9e46c8ab"
      },
      "execution_count": 71,
      "outputs": [
        {
          "output_type": "execute_result",
          "data": {
            "text/plain": [
              "10.290592334494773"
            ]
          },
          "metadata": {},
          "execution_count": 71
        }
      ]
    },
    {
      "cell_type": "markdown",
      "source": [
        "El promedio de compras totales por personas de edad de 35 a 38 años es de 10.30 aproximadamente."
      ],
      "metadata": {
        "id": "U0eHhJLAAwhD"
      }
    },
    {
      "cell_type": "code",
      "source": [
        "(3.40625/15)*100"
      ],
      "metadata": {
        "colab": {
          "base_uri": "https://localhost:8080/"
        },
        "id": "8nBLmGEDSVJ3",
        "outputId": "a7613a6d-2bf5-48d4-f55e-40233e27df8a"
      },
      "execution_count": 72,
      "outputs": [
        {
          "output_type": "execute_result",
          "data": {
            "text/plain": [
              "22.708333333333332"
            ]
          },
          "metadata": {},
          "execution_count": 72
        }
      ]
    },
    {
      "cell_type": "markdown",
      "source": [
        "El promedio de compras totales por personas de edad de 39 a 42 años es de 22.70 aproximadamente."
      ],
      "metadata": {
        "id": "toTp1UohA3nL"
      }
    },
    {
      "cell_type": "code",
      "source": [
        "# 6. Los que más gastan."
      ],
      "metadata": {
        "id": "Y-zHcZcRBBYQ"
      },
      "execution_count": null,
      "outputs": []
    },
    {
      "cell_type": "code",
      "source": [
        "data=pd.concat([df_csv[\"Precio\"],df_csv[\"Usuario\"]],axis=1)\n",
        "data1=data.sort_values(\"Precio\",ascending=False) # Ubico una de las columnas en este caso lade precio de mayor a menor"
      ],
      "metadata": {
        "id": "4Z5EtabRibMK"
      },
      "execution_count": 73,
      "outputs": []
    },
    {
      "cell_type": "code",
      "source": [
        "np.max(data1) # Confirmo cual es el dato maximo en mi base"
      ],
      "metadata": {
        "colab": {
          "base_uri": "https://localhost:8080/"
        },
        "id": "OyAEM8Kpjmbw",
        "outputId": "59afdd96-2fec-45fb-e08f-68961e3ff6db"
      },
      "execution_count": 74,
      "outputs": [
        {
          "output_type": "execute_result",
          "data": {
            "text/plain": [
              "Precio          4.99\n",
              "Usuario    Zontibe81\n",
              "dtype: object"
            ]
          },
          "metadata": {},
          "execution_count": 74
        }
      ]
    },
    {
      "cell_type": "code",
      "source": [
        "m=(data1[(data1[\"Precio\"]>=4.94)& data1[\"Usuario\"]])"
      ],
      "metadata": {
        "id": "F6yqvnSLpV8-"
      },
      "execution_count": 75,
      "outputs": []
    },
    {
      "cell_type": "code",
      "source": [
        "m.mean() #Precio medio de la compra"
      ],
      "metadata": {
        "id": "KOtnj1pQ9YwU",
        "colab": {
          "base_uri": "https://localhost:8080/"
        },
        "outputId": "62a5bf42-2076-48d5-c7f8-1c7f1784f64a"
      },
      "execution_count": 76,
      "outputs": [
        {
          "output_type": "stream",
          "name": "stderr",
          "text": [
            "/usr/local/lib/python3.7/dist-packages/ipykernel_launcher.py:1: FutureWarning: Dropping of nuisance columns in DataFrame reductions (with 'numeric_only=None') is deprecated; in a future version this will raise TypeError.  Select only valid columns before calling the reduction.\n",
            "  \"\"\"Entry point for launching an IPython kernel.\n"
          ]
        },
        {
          "output_type": "execute_result",
          "data": {
            "text/plain": [
              "Precio    4.954286\n",
              "dtype: float64"
            ]
          },
          "metadata": {},
          "execution_count": 76
        }
      ]
    },
    {
      "cell_type": "markdown",
      "source": [
        "El precio promedio de compras para las personas que mas gastan es de aproximadamente 4.95 dolares."
      ],
      "metadata": {
        "id": "RG6dJ5KuCSDc"
      }
    },
    {
      "cell_type": "code",
      "source": [
        "m.sum() # Valor total de las compras"
      ],
      "metadata": {
        "colab": {
          "base_uri": "https://localhost:8080/"
        },
        "id": "ubXjXm5fnbNB",
        "outputId": "1cb75808-b5ec-4d01-e904-22dfa8adcc98"
      },
      "execution_count": 77,
      "outputs": [
        {
          "output_type": "execute_result",
          "data": {
            "text/plain": [
              "Precio                                                 34.68\n",
              "Usuario    Dyally87Hiasri33Ririp86Lirtilsa71Chanirrasta87...\n",
              "dtype: object"
            ]
          },
          "metadata": {},
          "execution_count": 77
        }
      ]
    },
    {
      "cell_type": "markdown",
      "source": [
        "La suma total de precos de compras para las personas que mas gastan es de 34.68 dolares aproximadamente. "
      ],
      "metadata": {
        "id": "1p2znOipCfmq"
      }
    },
    {
      "cell_type": "code",
      "source": [
        "data2=pd.concat([df_csv[\"Precio\"],df_csv[\"Usuario\"],df_csv[\"NombreArticulo\"]],axis=1)\n",
        "data3=data2.sort_values(\"Precio\",ascending=False) # Ubico una de las columnas en este caso la de precio de mayor a menor\n",
        "data3.head(5)"
      ],
      "metadata": {
        "colab": {
          "base_uri": "https://localhost:8080/",
          "height": 206
        },
        "id": "gya-oVQMoOl-",
        "outputId": "eaa2799a-90ac-4f69-d4d6-be04f9e598c0"
      },
      "execution_count": 78,
      "outputs": [
        {
          "output_type": "execute_result",
          "data": {
            "text/plain": [
              "     Precio        Usuario           NombreArticulo\n",
              "554    4.99       Dyally87           Stormfury Mace\n",
              "189    4.99       Hiasri33           Stormfury Mace\n",
              "110    4.94        Ririp86  Mercy, Katana of Dismay\n",
              "246    4.94     Lirtilsa71  Mercy, Katana of Dismay\n",
              "493    4.94  Chanirrasta87  Mercy, Katana of Dismay"
            ],
            "text/html": [
              "\n",
              "  <div id=\"df-39935af5-b7be-4d80-908a-2482e8f89cd6\">\n",
              "    <div class=\"colab-df-container\">\n",
              "      <div>\n",
              "<style scoped>\n",
              "    .dataframe tbody tr th:only-of-type {\n",
              "        vertical-align: middle;\n",
              "    }\n",
              "\n",
              "    .dataframe tbody tr th {\n",
              "        vertical-align: top;\n",
              "    }\n",
              "\n",
              "    .dataframe thead th {\n",
              "        text-align: right;\n",
              "    }\n",
              "</style>\n",
              "<table border=\"1\" class=\"dataframe\">\n",
              "  <thead>\n",
              "    <tr style=\"text-align: right;\">\n",
              "      <th></th>\n",
              "      <th>Precio</th>\n",
              "      <th>Usuario</th>\n",
              "      <th>NombreArticulo</th>\n",
              "    </tr>\n",
              "  </thead>\n",
              "  <tbody>\n",
              "    <tr>\n",
              "      <th>554</th>\n",
              "      <td>4.99</td>\n",
              "      <td>Dyally87</td>\n",
              "      <td>Stormfury Mace</td>\n",
              "    </tr>\n",
              "    <tr>\n",
              "      <th>189</th>\n",
              "      <td>4.99</td>\n",
              "      <td>Hiasri33</td>\n",
              "      <td>Stormfury Mace</td>\n",
              "    </tr>\n",
              "    <tr>\n",
              "      <th>110</th>\n",
              "      <td>4.94</td>\n",
              "      <td>Ririp86</td>\n",
              "      <td>Mercy, Katana of Dismay</td>\n",
              "    </tr>\n",
              "    <tr>\n",
              "      <th>246</th>\n",
              "      <td>4.94</td>\n",
              "      <td>Lirtilsa71</td>\n",
              "      <td>Mercy, Katana of Dismay</td>\n",
              "    </tr>\n",
              "    <tr>\n",
              "      <th>493</th>\n",
              "      <td>4.94</td>\n",
              "      <td>Chanirrasta87</td>\n",
              "      <td>Mercy, Katana of Dismay</td>\n",
              "    </tr>\n",
              "  </tbody>\n",
              "</table>\n",
              "</div>\n",
              "      <button class=\"colab-df-convert\" onclick=\"convertToInteractive('df-39935af5-b7be-4d80-908a-2482e8f89cd6')\"\n",
              "              title=\"Convert this dataframe to an interactive table.\"\n",
              "              style=\"display:none;\">\n",
              "        \n",
              "  <svg xmlns=\"http://www.w3.org/2000/svg\" height=\"24px\"viewBox=\"0 0 24 24\"\n",
              "       width=\"24px\">\n",
              "    <path d=\"M0 0h24v24H0V0z\" fill=\"none\"/>\n",
              "    <path d=\"M18.56 5.44l.94 2.06.94-2.06 2.06-.94-2.06-.94-.94-2.06-.94 2.06-2.06.94zm-11 1L8.5 8.5l.94-2.06 2.06-.94-2.06-.94L8.5 2.5l-.94 2.06-2.06.94zm10 10l.94 2.06.94-2.06 2.06-.94-2.06-.94-.94-2.06-.94 2.06-2.06.94z\"/><path d=\"M17.41 7.96l-1.37-1.37c-.4-.4-.92-.59-1.43-.59-.52 0-1.04.2-1.43.59L10.3 9.45l-7.72 7.72c-.78.78-.78 2.05 0 2.83L4 21.41c.39.39.9.59 1.41.59.51 0 1.02-.2 1.41-.59l7.78-7.78 2.81-2.81c.8-.78.8-2.07 0-2.86zM5.41 20L4 18.59l7.72-7.72 1.47 1.35L5.41 20z\"/>\n",
              "  </svg>\n",
              "      </button>\n",
              "      \n",
              "  <style>\n",
              "    .colab-df-container {\n",
              "      display:flex;\n",
              "      flex-wrap:wrap;\n",
              "      gap: 12px;\n",
              "    }\n",
              "\n",
              "    .colab-df-convert {\n",
              "      background-color: #E8F0FE;\n",
              "      border: none;\n",
              "      border-radius: 50%;\n",
              "      cursor: pointer;\n",
              "      display: none;\n",
              "      fill: #1967D2;\n",
              "      height: 32px;\n",
              "      padding: 0 0 0 0;\n",
              "      width: 32px;\n",
              "    }\n",
              "\n",
              "    .colab-df-convert:hover {\n",
              "      background-color: #E2EBFA;\n",
              "      box-shadow: 0px 1px 2px rgba(60, 64, 67, 0.3), 0px 1px 3px 1px rgba(60, 64, 67, 0.15);\n",
              "      fill: #174EA6;\n",
              "    }\n",
              "\n",
              "    [theme=dark] .colab-df-convert {\n",
              "      background-color: #3B4455;\n",
              "      fill: #D2E3FC;\n",
              "    }\n",
              "\n",
              "    [theme=dark] .colab-df-convert:hover {\n",
              "      background-color: #434B5C;\n",
              "      box-shadow: 0px 1px 3px 1px rgba(0, 0, 0, 0.15);\n",
              "      filter: drop-shadow(0px 1px 2px rgba(0, 0, 0, 0.3));\n",
              "      fill: #FFFFFF;\n",
              "    }\n",
              "  </style>\n",
              "\n",
              "      <script>\n",
              "        const buttonEl =\n",
              "          document.querySelector('#df-39935af5-b7be-4d80-908a-2482e8f89cd6 button.colab-df-convert');\n",
              "        buttonEl.style.display =\n",
              "          google.colab.kernel.accessAllowed ? 'block' : 'none';\n",
              "\n",
              "        async function convertToInteractive(key) {\n",
              "          const element = document.querySelector('#df-39935af5-b7be-4d80-908a-2482e8f89cd6');\n",
              "          const dataTable =\n",
              "            await google.colab.kernel.invokeFunction('convertToInteractive',\n",
              "                                                     [key], {});\n",
              "          if (!dataTable) return;\n",
              "\n",
              "          const docLinkHtml = 'Like what you see? Visit the ' +\n",
              "            '<a target=\"_blank\" href=https://colab.research.google.com/notebooks/data_table.ipynb>data table notebook</a>'\n",
              "            + ' to learn more about interactive tables.';\n",
              "          element.innerHTML = '';\n",
              "          dataTable['output_type'] = 'display_data';\n",
              "          await google.colab.output.renderOutput(dataTable, element);\n",
              "          const docLink = document.createElement('div');\n",
              "          docLink.innerHTML = docLinkHtml;\n",
              "          element.appendChild(docLink);\n",
              "        }\n",
              "      </script>\n",
              "    </div>\n",
              "  </div>\n",
              "  "
            ]
          },
          "metadata": {},
          "execution_count": 78
        }
      ]
    },
    {
      "cell_type": "code",
      "source": [
        "n1= data3.query(\"Precio>=4.94\") # Realizo la condisión deseada\n",
        "n1"
      ],
      "metadata": {
        "colab": {
          "base_uri": "https://localhost:8080/",
          "height": 269
        },
        "id": "XSbRRXf6roFe",
        "outputId": "3a3cd3c7-6125-49ef-8605-777d4f8e44dd"
      },
      "execution_count": 79,
      "outputs": [
        {
          "output_type": "execute_result",
          "data": {
            "text/plain": [
              "     Precio         Usuario           NombreArticulo\n",
              "554    4.99        Dyally87           Stormfury Mace\n",
              "189    4.99        Hiasri33           Stormfury Mace\n",
              "110    4.94         Ririp86  Mercy, Katana of Dismay\n",
              "246    4.94      Lirtilsa71  Mercy, Katana of Dismay\n",
              "493    4.94   Chanirrasta87  Mercy, Katana of Dismay\n",
              "116    4.94    Lassilsala30  Mercy, Katana of Dismay\n",
              "231    4.94  Yarithsurgue62  Mercy, Katana of Dismay"
            ],
            "text/html": [
              "\n",
              "  <div id=\"df-b8fdd4be-f92f-4fa2-be6b-96ca8a205017\">\n",
              "    <div class=\"colab-df-container\">\n",
              "      <div>\n",
              "<style scoped>\n",
              "    .dataframe tbody tr th:only-of-type {\n",
              "        vertical-align: middle;\n",
              "    }\n",
              "\n",
              "    .dataframe tbody tr th {\n",
              "        vertical-align: top;\n",
              "    }\n",
              "\n",
              "    .dataframe thead th {\n",
              "        text-align: right;\n",
              "    }\n",
              "</style>\n",
              "<table border=\"1\" class=\"dataframe\">\n",
              "  <thead>\n",
              "    <tr style=\"text-align: right;\">\n",
              "      <th></th>\n",
              "      <th>Precio</th>\n",
              "      <th>Usuario</th>\n",
              "      <th>NombreArticulo</th>\n",
              "    </tr>\n",
              "  </thead>\n",
              "  <tbody>\n",
              "    <tr>\n",
              "      <th>554</th>\n",
              "      <td>4.99</td>\n",
              "      <td>Dyally87</td>\n",
              "      <td>Stormfury Mace</td>\n",
              "    </tr>\n",
              "    <tr>\n",
              "      <th>189</th>\n",
              "      <td>4.99</td>\n",
              "      <td>Hiasri33</td>\n",
              "      <td>Stormfury Mace</td>\n",
              "    </tr>\n",
              "    <tr>\n",
              "      <th>110</th>\n",
              "      <td>4.94</td>\n",
              "      <td>Ririp86</td>\n",
              "      <td>Mercy, Katana of Dismay</td>\n",
              "    </tr>\n",
              "    <tr>\n",
              "      <th>246</th>\n",
              "      <td>4.94</td>\n",
              "      <td>Lirtilsa71</td>\n",
              "      <td>Mercy, Katana of Dismay</td>\n",
              "    </tr>\n",
              "    <tr>\n",
              "      <th>493</th>\n",
              "      <td>4.94</td>\n",
              "      <td>Chanirrasta87</td>\n",
              "      <td>Mercy, Katana of Dismay</td>\n",
              "    </tr>\n",
              "    <tr>\n",
              "      <th>116</th>\n",
              "      <td>4.94</td>\n",
              "      <td>Lassilsala30</td>\n",
              "      <td>Mercy, Katana of Dismay</td>\n",
              "    </tr>\n",
              "    <tr>\n",
              "      <th>231</th>\n",
              "      <td>4.94</td>\n",
              "      <td>Yarithsurgue62</td>\n",
              "      <td>Mercy, Katana of Dismay</td>\n",
              "    </tr>\n",
              "  </tbody>\n",
              "</table>\n",
              "</div>\n",
              "      <button class=\"colab-df-convert\" onclick=\"convertToInteractive('df-b8fdd4be-f92f-4fa2-be6b-96ca8a205017')\"\n",
              "              title=\"Convert this dataframe to an interactive table.\"\n",
              "              style=\"display:none;\">\n",
              "        \n",
              "  <svg xmlns=\"http://www.w3.org/2000/svg\" height=\"24px\"viewBox=\"0 0 24 24\"\n",
              "       width=\"24px\">\n",
              "    <path d=\"M0 0h24v24H0V0z\" fill=\"none\"/>\n",
              "    <path d=\"M18.56 5.44l.94 2.06.94-2.06 2.06-.94-2.06-.94-.94-2.06-.94 2.06-2.06.94zm-11 1L8.5 8.5l.94-2.06 2.06-.94-2.06-.94L8.5 2.5l-.94 2.06-2.06.94zm10 10l.94 2.06.94-2.06 2.06-.94-2.06-.94-.94-2.06-.94 2.06-2.06.94z\"/><path d=\"M17.41 7.96l-1.37-1.37c-.4-.4-.92-.59-1.43-.59-.52 0-1.04.2-1.43.59L10.3 9.45l-7.72 7.72c-.78.78-.78 2.05 0 2.83L4 21.41c.39.39.9.59 1.41.59.51 0 1.02-.2 1.41-.59l7.78-7.78 2.81-2.81c.8-.78.8-2.07 0-2.86zM5.41 20L4 18.59l7.72-7.72 1.47 1.35L5.41 20z\"/>\n",
              "  </svg>\n",
              "      </button>\n",
              "      \n",
              "  <style>\n",
              "    .colab-df-container {\n",
              "      display:flex;\n",
              "      flex-wrap:wrap;\n",
              "      gap: 12px;\n",
              "    }\n",
              "\n",
              "    .colab-df-convert {\n",
              "      background-color: #E8F0FE;\n",
              "      border: none;\n",
              "      border-radius: 50%;\n",
              "      cursor: pointer;\n",
              "      display: none;\n",
              "      fill: #1967D2;\n",
              "      height: 32px;\n",
              "      padding: 0 0 0 0;\n",
              "      width: 32px;\n",
              "    }\n",
              "\n",
              "    .colab-df-convert:hover {\n",
              "      background-color: #E2EBFA;\n",
              "      box-shadow: 0px 1px 2px rgba(60, 64, 67, 0.3), 0px 1px 3px 1px rgba(60, 64, 67, 0.15);\n",
              "      fill: #174EA6;\n",
              "    }\n",
              "\n",
              "    [theme=dark] .colab-df-convert {\n",
              "      background-color: #3B4455;\n",
              "      fill: #D2E3FC;\n",
              "    }\n",
              "\n",
              "    [theme=dark] .colab-df-convert:hover {\n",
              "      background-color: #434B5C;\n",
              "      box-shadow: 0px 1px 3px 1px rgba(0, 0, 0, 0.15);\n",
              "      filter: drop-shadow(0px 1px 2px rgba(0, 0, 0, 0.3));\n",
              "      fill: #FFFFFF;\n",
              "    }\n",
              "  </style>\n",
              "\n",
              "      <script>\n",
              "        const buttonEl =\n",
              "          document.querySelector('#df-b8fdd4be-f92f-4fa2-be6b-96ca8a205017 button.colab-df-convert');\n",
              "        buttonEl.style.display =\n",
              "          google.colab.kernel.accessAllowed ? 'block' : 'none';\n",
              "\n",
              "        async function convertToInteractive(key) {\n",
              "          const element = document.querySelector('#df-b8fdd4be-f92f-4fa2-be6b-96ca8a205017');\n",
              "          const dataTable =\n",
              "            await google.colab.kernel.invokeFunction('convertToInteractive',\n",
              "                                                     [key], {});\n",
              "          if (!dataTable) return;\n",
              "\n",
              "          const docLinkHtml = 'Like what you see? Visit the ' +\n",
              "            '<a target=\"_blank\" href=https://colab.research.google.com/notebooks/data_table.ipynb>data table notebook</a>'\n",
              "            + ' to learn more about interactive tables.';\n",
              "          element.innerHTML = '';\n",
              "          dataTable['output_type'] = 'display_data';\n",
              "          await google.colab.output.renderOutput(dataTable, element);\n",
              "          const docLink = document.createElement('div');\n",
              "          docLink.innerHTML = docLinkHtml;\n",
              "          element.appendChild(docLink);\n",
              "        }\n",
              "      </script>\n",
              "    </div>\n",
              "  </div>\n",
              "  "
            ]
          },
          "metadata": {},
          "execution_count": 79
        }
      ]
    },
    {
      "cell_type": "code",
      "source": [
        "data4=df_csv.sort_values(\"Precio\",ascending=False) # Ubico una de las columnas en este caso la de precio de mayor a menor\n",
        "data4.query(\"Precio>=4.94\")"
      ],
      "metadata": {
        "colab": {
          "base_uri": "https://localhost:8080/",
          "height": 269
        },
        "id": "8-NduUMttLhW",
        "outputId": "68a85aa0-07c2-47ff-e1f4-c0da198bd386"
      },
      "execution_count": 80,
      "outputs": [
        {
          "output_type": "execute_result",
          "data": {
            "text/plain": [
              "     IDcompra         Usuario  Edad Genero     ID           NombreArticulo  \\\n",
              "554       554        Dyally87  22.0   Male   63.0           Stormfury Mace   \n",
              "189       189        Hiasri33  23.0   Male   63.0           Stormfury Mace   \n",
              "110       110         Ririp86  25.0   Male  139.0  Mercy, Katana of Dismay   \n",
              "246       246      Lirtilsa71  24.0   Male  139.0  Mercy, Katana of Dismay   \n",
              "493       493   Chanirrasta87  14.0   Male  139.0  Mercy, Katana of Dismay   \n",
              "116       116    Lassilsala30  21.0   Male  139.0  Mercy, Katana of Dismay   \n",
              "231       231  Yarithsurgue62  26.0   Male  139.0  Mercy, Katana of Dismay   \n",
              "\n",
              "     Precio  \n",
              "554    4.99  \n",
              "189    4.99  \n",
              "110    4.94  \n",
              "246    4.94  \n",
              "493    4.94  \n",
              "116    4.94  \n",
              "231    4.94  "
            ],
            "text/html": [
              "\n",
              "  <div id=\"df-070d6fa3-ee4f-4c89-9887-6a6ef0a03454\">\n",
              "    <div class=\"colab-df-container\">\n",
              "      <div>\n",
              "<style scoped>\n",
              "    .dataframe tbody tr th:only-of-type {\n",
              "        vertical-align: middle;\n",
              "    }\n",
              "\n",
              "    .dataframe tbody tr th {\n",
              "        vertical-align: top;\n",
              "    }\n",
              "\n",
              "    .dataframe thead th {\n",
              "        text-align: right;\n",
              "    }\n",
              "</style>\n",
              "<table border=\"1\" class=\"dataframe\">\n",
              "  <thead>\n",
              "    <tr style=\"text-align: right;\">\n",
              "      <th></th>\n",
              "      <th>IDcompra</th>\n",
              "      <th>Usuario</th>\n",
              "      <th>Edad</th>\n",
              "      <th>Genero</th>\n",
              "      <th>ID</th>\n",
              "      <th>NombreArticulo</th>\n",
              "      <th>Precio</th>\n",
              "    </tr>\n",
              "  </thead>\n",
              "  <tbody>\n",
              "    <tr>\n",
              "      <th>554</th>\n",
              "      <td>554</td>\n",
              "      <td>Dyally87</td>\n",
              "      <td>22.0</td>\n",
              "      <td>Male</td>\n",
              "      <td>63.0</td>\n",
              "      <td>Stormfury Mace</td>\n",
              "      <td>4.99</td>\n",
              "    </tr>\n",
              "    <tr>\n",
              "      <th>189</th>\n",
              "      <td>189</td>\n",
              "      <td>Hiasri33</td>\n",
              "      <td>23.0</td>\n",
              "      <td>Male</td>\n",
              "      <td>63.0</td>\n",
              "      <td>Stormfury Mace</td>\n",
              "      <td>4.99</td>\n",
              "    </tr>\n",
              "    <tr>\n",
              "      <th>110</th>\n",
              "      <td>110</td>\n",
              "      <td>Ririp86</td>\n",
              "      <td>25.0</td>\n",
              "      <td>Male</td>\n",
              "      <td>139.0</td>\n",
              "      <td>Mercy, Katana of Dismay</td>\n",
              "      <td>4.94</td>\n",
              "    </tr>\n",
              "    <tr>\n",
              "      <th>246</th>\n",
              "      <td>246</td>\n",
              "      <td>Lirtilsa71</td>\n",
              "      <td>24.0</td>\n",
              "      <td>Male</td>\n",
              "      <td>139.0</td>\n",
              "      <td>Mercy, Katana of Dismay</td>\n",
              "      <td>4.94</td>\n",
              "    </tr>\n",
              "    <tr>\n",
              "      <th>493</th>\n",
              "      <td>493</td>\n",
              "      <td>Chanirrasta87</td>\n",
              "      <td>14.0</td>\n",
              "      <td>Male</td>\n",
              "      <td>139.0</td>\n",
              "      <td>Mercy, Katana of Dismay</td>\n",
              "      <td>4.94</td>\n",
              "    </tr>\n",
              "    <tr>\n",
              "      <th>116</th>\n",
              "      <td>116</td>\n",
              "      <td>Lassilsala30</td>\n",
              "      <td>21.0</td>\n",
              "      <td>Male</td>\n",
              "      <td>139.0</td>\n",
              "      <td>Mercy, Katana of Dismay</td>\n",
              "      <td>4.94</td>\n",
              "    </tr>\n",
              "    <tr>\n",
              "      <th>231</th>\n",
              "      <td>231</td>\n",
              "      <td>Yarithsurgue62</td>\n",
              "      <td>26.0</td>\n",
              "      <td>Male</td>\n",
              "      <td>139.0</td>\n",
              "      <td>Mercy, Katana of Dismay</td>\n",
              "      <td>4.94</td>\n",
              "    </tr>\n",
              "  </tbody>\n",
              "</table>\n",
              "</div>\n",
              "      <button class=\"colab-df-convert\" onclick=\"convertToInteractive('df-070d6fa3-ee4f-4c89-9887-6a6ef0a03454')\"\n",
              "              title=\"Convert this dataframe to an interactive table.\"\n",
              "              style=\"display:none;\">\n",
              "        \n",
              "  <svg xmlns=\"http://www.w3.org/2000/svg\" height=\"24px\"viewBox=\"0 0 24 24\"\n",
              "       width=\"24px\">\n",
              "    <path d=\"M0 0h24v24H0V0z\" fill=\"none\"/>\n",
              "    <path d=\"M18.56 5.44l.94 2.06.94-2.06 2.06-.94-2.06-.94-.94-2.06-.94 2.06-2.06.94zm-11 1L8.5 8.5l.94-2.06 2.06-.94-2.06-.94L8.5 2.5l-.94 2.06-2.06.94zm10 10l.94 2.06.94-2.06 2.06-.94-2.06-.94-.94-2.06-.94 2.06-2.06.94z\"/><path d=\"M17.41 7.96l-1.37-1.37c-.4-.4-.92-.59-1.43-.59-.52 0-1.04.2-1.43.59L10.3 9.45l-7.72 7.72c-.78.78-.78 2.05 0 2.83L4 21.41c.39.39.9.59 1.41.59.51 0 1.02-.2 1.41-.59l7.78-7.78 2.81-2.81c.8-.78.8-2.07 0-2.86zM5.41 20L4 18.59l7.72-7.72 1.47 1.35L5.41 20z\"/>\n",
              "  </svg>\n",
              "      </button>\n",
              "      \n",
              "  <style>\n",
              "    .colab-df-container {\n",
              "      display:flex;\n",
              "      flex-wrap:wrap;\n",
              "      gap: 12px;\n",
              "    }\n",
              "\n",
              "    .colab-df-convert {\n",
              "      background-color: #E8F0FE;\n",
              "      border: none;\n",
              "      border-radius: 50%;\n",
              "      cursor: pointer;\n",
              "      display: none;\n",
              "      fill: #1967D2;\n",
              "      height: 32px;\n",
              "      padding: 0 0 0 0;\n",
              "      width: 32px;\n",
              "    }\n",
              "\n",
              "    .colab-df-convert:hover {\n",
              "      background-color: #E2EBFA;\n",
              "      box-shadow: 0px 1px 2px rgba(60, 64, 67, 0.3), 0px 1px 3px 1px rgba(60, 64, 67, 0.15);\n",
              "      fill: #174EA6;\n",
              "    }\n",
              "\n",
              "    [theme=dark] .colab-df-convert {\n",
              "      background-color: #3B4455;\n",
              "      fill: #D2E3FC;\n",
              "    }\n",
              "\n",
              "    [theme=dark] .colab-df-convert:hover {\n",
              "      background-color: #434B5C;\n",
              "      box-shadow: 0px 1px 3px 1px rgba(0, 0, 0, 0.15);\n",
              "      filter: drop-shadow(0px 1px 2px rgba(0, 0, 0, 0.3));\n",
              "      fill: #FFFFFF;\n",
              "    }\n",
              "  </style>\n",
              "\n",
              "      <script>\n",
              "        const buttonEl =\n",
              "          document.querySelector('#df-070d6fa3-ee4f-4c89-9887-6a6ef0a03454 button.colab-df-convert');\n",
              "        buttonEl.style.display =\n",
              "          google.colab.kernel.accessAllowed ? 'block' : 'none';\n",
              "\n",
              "        async function convertToInteractive(key) {\n",
              "          const element = document.querySelector('#df-070d6fa3-ee4f-4c89-9887-6a6ef0a03454');\n",
              "          const dataTable =\n",
              "            await google.colab.kernel.invokeFunction('convertToInteractive',\n",
              "                                                     [key], {});\n",
              "          if (!dataTable) return;\n",
              "\n",
              "          const docLinkHtml = 'Like what you see? Visit the ' +\n",
              "            '<a target=\"_blank\" href=https://colab.research.google.com/notebooks/data_table.ipynb>data table notebook</a>'\n",
              "            + ' to learn more about interactive tables.';\n",
              "          element.innerHTML = '';\n",
              "          dataTable['output_type'] = 'display_data';\n",
              "          await google.colab.output.renderOutput(dataTable, element);\n",
              "          const docLink = document.createElement('div');\n",
              "          docLink.innerHTML = docLinkHtml;\n",
              "          element.appendChild(docLink);\n",
              "        }\n",
              "      </script>\n",
              "    </div>\n",
              "  </div>\n",
              "  "
            ]
          },
          "metadata": {},
          "execution_count": 80
        }
      ]
    },
    {
      "cell_type": "markdown",
      "source": [
        "Podemos evidenciar que las personas que mas gastan son las del genero masculino con edades que van mas o menos de los 14 a 26 años. "
      ],
      "metadata": {
        "id": "7gpgOdbAC6kV"
      }
    },
    {
      "cell_type": "code",
      "source": [
        "# Punto 7 (Artículos más populares)\n",
        "data5=df_csv.groupby(\"ID\",dropna=False).agg(Nombre_Articulo=(\"NombreArticulo\",\"unique\"),Numero_Compras=(\"ID\",\"count\"), Precio=(\"Precio\",\"unique\"),Valor_Total=(\"Precio\",\"sum\"))\n",
        "data6=data5.sort_values(\"Numero_Compras\",ascending=False) # Ubico una de las columnas en este caso lade precio de mayor a menor\n",
        "data6.head(5)"
      ],
      "metadata": {
        "colab": {
          "base_uri": "https://localhost:8080/",
          "height": 238
        },
        "id": "Zoj-W8EavMV2",
        "outputId": "4f311301-f292-40f0-b3d5-251be5aba9d1"
      },
      "execution_count": 81,
      "outputs": [
        {
          "output_type": "execute_result",
          "data": {
            "text/plain": [
              "                                      Nombre_Articulo  Numero_Compras  Precio  \\\n",
              "ID                                                                              \n",
              "178.0  [Oathbreaker, Last Hope of the Breaking Storm]              12  [4.23]   \n",
              "145.0                          [Fiery Glass Crusader]               9  [4.58]   \n",
              "108.0     [Extraction, Quickblade Of Trembling Hands]               9  [3.53]   \n",
              "82.0                                        [Nirvana]               9   [4.9]   \n",
              "19.0                  [Pursuit, Cudgel of Necromancy]               8  [1.02]   \n",
              "\n",
              "       Valor_Total  \n",
              "ID                  \n",
              "178.0        50.76  \n",
              "145.0        41.22  \n",
              "108.0        31.77  \n",
              "82.0         44.10  \n",
              "19.0          8.16  "
            ],
            "text/html": [
              "\n",
              "  <div id=\"df-9c5e745a-6bfb-4cb5-aeec-508979564a70\">\n",
              "    <div class=\"colab-df-container\">\n",
              "      <div>\n",
              "<style scoped>\n",
              "    .dataframe tbody tr th:only-of-type {\n",
              "        vertical-align: middle;\n",
              "    }\n",
              "\n",
              "    .dataframe tbody tr th {\n",
              "        vertical-align: top;\n",
              "    }\n",
              "\n",
              "    .dataframe thead th {\n",
              "        text-align: right;\n",
              "    }\n",
              "</style>\n",
              "<table border=\"1\" class=\"dataframe\">\n",
              "  <thead>\n",
              "    <tr style=\"text-align: right;\">\n",
              "      <th></th>\n",
              "      <th>Nombre_Articulo</th>\n",
              "      <th>Numero_Compras</th>\n",
              "      <th>Precio</th>\n",
              "      <th>Valor_Total</th>\n",
              "    </tr>\n",
              "    <tr>\n",
              "      <th>ID</th>\n",
              "      <th></th>\n",
              "      <th></th>\n",
              "      <th></th>\n",
              "      <th></th>\n",
              "    </tr>\n",
              "  </thead>\n",
              "  <tbody>\n",
              "    <tr>\n",
              "      <th>178.0</th>\n",
              "      <td>[Oathbreaker, Last Hope of the Breaking Storm]</td>\n",
              "      <td>12</td>\n",
              "      <td>[4.23]</td>\n",
              "      <td>50.76</td>\n",
              "    </tr>\n",
              "    <tr>\n",
              "      <th>145.0</th>\n",
              "      <td>[Fiery Glass Crusader]</td>\n",
              "      <td>9</td>\n",
              "      <td>[4.58]</td>\n",
              "      <td>41.22</td>\n",
              "    </tr>\n",
              "    <tr>\n",
              "      <th>108.0</th>\n",
              "      <td>[Extraction, Quickblade Of Trembling Hands]</td>\n",
              "      <td>9</td>\n",
              "      <td>[3.53]</td>\n",
              "      <td>31.77</td>\n",
              "    </tr>\n",
              "    <tr>\n",
              "      <th>82.0</th>\n",
              "      <td>[Nirvana]</td>\n",
              "      <td>9</td>\n",
              "      <td>[4.9]</td>\n",
              "      <td>44.10</td>\n",
              "    </tr>\n",
              "    <tr>\n",
              "      <th>19.0</th>\n",
              "      <td>[Pursuit, Cudgel of Necromancy]</td>\n",
              "      <td>8</td>\n",
              "      <td>[1.02]</td>\n",
              "      <td>8.16</td>\n",
              "    </tr>\n",
              "  </tbody>\n",
              "</table>\n",
              "</div>\n",
              "      <button class=\"colab-df-convert\" onclick=\"convertToInteractive('df-9c5e745a-6bfb-4cb5-aeec-508979564a70')\"\n",
              "              title=\"Convert this dataframe to an interactive table.\"\n",
              "              style=\"display:none;\">\n",
              "        \n",
              "  <svg xmlns=\"http://www.w3.org/2000/svg\" height=\"24px\"viewBox=\"0 0 24 24\"\n",
              "       width=\"24px\">\n",
              "    <path d=\"M0 0h24v24H0V0z\" fill=\"none\"/>\n",
              "    <path d=\"M18.56 5.44l.94 2.06.94-2.06 2.06-.94-2.06-.94-.94-2.06-.94 2.06-2.06.94zm-11 1L8.5 8.5l.94-2.06 2.06-.94-2.06-.94L8.5 2.5l-.94 2.06-2.06.94zm10 10l.94 2.06.94-2.06 2.06-.94-2.06-.94-.94-2.06-.94 2.06-2.06.94z\"/><path d=\"M17.41 7.96l-1.37-1.37c-.4-.4-.92-.59-1.43-.59-.52 0-1.04.2-1.43.59L10.3 9.45l-7.72 7.72c-.78.78-.78 2.05 0 2.83L4 21.41c.39.39.9.59 1.41.59.51 0 1.02-.2 1.41-.59l7.78-7.78 2.81-2.81c.8-.78.8-2.07 0-2.86zM5.41 20L4 18.59l7.72-7.72 1.47 1.35L5.41 20z\"/>\n",
              "  </svg>\n",
              "      </button>\n",
              "      \n",
              "  <style>\n",
              "    .colab-df-container {\n",
              "      display:flex;\n",
              "      flex-wrap:wrap;\n",
              "      gap: 12px;\n",
              "    }\n",
              "\n",
              "    .colab-df-convert {\n",
              "      background-color: #E8F0FE;\n",
              "      border: none;\n",
              "      border-radius: 50%;\n",
              "      cursor: pointer;\n",
              "      display: none;\n",
              "      fill: #1967D2;\n",
              "      height: 32px;\n",
              "      padding: 0 0 0 0;\n",
              "      width: 32px;\n",
              "    }\n",
              "\n",
              "    .colab-df-convert:hover {\n",
              "      background-color: #E2EBFA;\n",
              "      box-shadow: 0px 1px 2px rgba(60, 64, 67, 0.3), 0px 1px 3px 1px rgba(60, 64, 67, 0.15);\n",
              "      fill: #174EA6;\n",
              "    }\n",
              "\n",
              "    [theme=dark] .colab-df-convert {\n",
              "      background-color: #3B4455;\n",
              "      fill: #D2E3FC;\n",
              "    }\n",
              "\n",
              "    [theme=dark] .colab-df-convert:hover {\n",
              "      background-color: #434B5C;\n",
              "      box-shadow: 0px 1px 3px 1px rgba(0, 0, 0, 0.15);\n",
              "      filter: drop-shadow(0px 1px 2px rgba(0, 0, 0, 0.3));\n",
              "      fill: #FFFFFF;\n",
              "    }\n",
              "  </style>\n",
              "\n",
              "      <script>\n",
              "        const buttonEl =\n",
              "          document.querySelector('#df-9c5e745a-6bfb-4cb5-aeec-508979564a70 button.colab-df-convert');\n",
              "        buttonEl.style.display =\n",
              "          google.colab.kernel.accessAllowed ? 'block' : 'none';\n",
              "\n",
              "        async function convertToInteractive(key) {\n",
              "          const element = document.querySelector('#df-9c5e745a-6bfb-4cb5-aeec-508979564a70');\n",
              "          const dataTable =\n",
              "            await google.colab.kernel.invokeFunction('convertToInteractive',\n",
              "                                                     [key], {});\n",
              "          if (!dataTable) return;\n",
              "\n",
              "          const docLinkHtml = 'Like what you see? Visit the ' +\n",
              "            '<a target=\"_blank\" href=https://colab.research.google.com/notebooks/data_table.ipynb>data table notebook</a>'\n",
              "            + ' to learn more about interactive tables.';\n",
              "          element.innerHTML = '';\n",
              "          dataTable['output_type'] = 'display_data';\n",
              "          await google.colab.output.renderOutput(dataTable, element);\n",
              "          const docLink = document.createElement('div');\n",
              "          docLink.innerHTML = docLinkHtml;\n",
              "          element.appendChild(docLink);\n",
              "        }\n",
              "      </script>\n",
              "    </div>\n",
              "  </div>\n",
              "  "
            ]
          },
          "metadata": {},
          "execution_count": 81
        }
      ]
    },
    {
      "cell_type": "markdown",
      "source": [
        "A tráves de la tabla se evidencia que el articulo más vendido tiene una frecuencia de 12, con un valor total de compras de 50.76 dolares. Seguidamente encontramos que los demás articulos tienen la misma frecuencia 9 con valores totales muy variados. Asimismo, se observa que apesar de que el articulo con ID 19.0 es el del precio mas economico con respecto a los demas en la tabla no es el de mayor frecuencia. "
      ],
      "metadata": {
        "id": "W0n53jFtDSuj"
      }
    },
    {
      "cell_type": "code",
      "source": [
        "# Punto 8 (Artículos más rentables)\n",
        "data7=data5.sort_values(\"Valor_Total\",ascending=False) # Ubico una de las columnas en este caso lade precio de mayor a menor\n",
        "data7.head(5)"
      ],
      "metadata": {
        "colab": {
          "base_uri": "https://localhost:8080/",
          "height": 238
        },
        "id": "QJd3c3BswC4v",
        "outputId": "914cdfae-c38a-453c-8819-ef81dace523b"
      },
      "execution_count": 82,
      "outputs": [
        {
          "output_type": "execute_result",
          "data": {
            "text/plain": [
              "                                      Nombre_Articulo  Numero_Compras  Precio  \\\n",
              "ID                                                                              \n",
              "178.0  [Oathbreaker, Last Hope of the Breaking Storm]              12  [4.23]   \n",
              "82.0                                        [Nirvana]               9   [4.9]   \n",
              "145.0                          [Fiery Glass Crusader]               9  [4.58]   \n",
              "92.0                                   [Final Critic]               8  [4.88]   \n",
              "103.0                                [Singed Scalpel]               8  [4.35]   \n",
              "\n",
              "       Valor_Total  \n",
              "ID                  \n",
              "178.0        50.76  \n",
              "82.0         44.10  \n",
              "145.0        41.22  \n",
              "92.0         39.04  \n",
              "103.0        34.80  "
            ],
            "text/html": [
              "\n",
              "  <div id=\"df-b78f9e65-36b9-46f0-a4fb-68489386d40e\">\n",
              "    <div class=\"colab-df-container\">\n",
              "      <div>\n",
              "<style scoped>\n",
              "    .dataframe tbody tr th:only-of-type {\n",
              "        vertical-align: middle;\n",
              "    }\n",
              "\n",
              "    .dataframe tbody tr th {\n",
              "        vertical-align: top;\n",
              "    }\n",
              "\n",
              "    .dataframe thead th {\n",
              "        text-align: right;\n",
              "    }\n",
              "</style>\n",
              "<table border=\"1\" class=\"dataframe\">\n",
              "  <thead>\n",
              "    <tr style=\"text-align: right;\">\n",
              "      <th></th>\n",
              "      <th>Nombre_Articulo</th>\n",
              "      <th>Numero_Compras</th>\n",
              "      <th>Precio</th>\n",
              "      <th>Valor_Total</th>\n",
              "    </tr>\n",
              "    <tr>\n",
              "      <th>ID</th>\n",
              "      <th></th>\n",
              "      <th></th>\n",
              "      <th></th>\n",
              "      <th></th>\n",
              "    </tr>\n",
              "  </thead>\n",
              "  <tbody>\n",
              "    <tr>\n",
              "      <th>178.0</th>\n",
              "      <td>[Oathbreaker, Last Hope of the Breaking Storm]</td>\n",
              "      <td>12</td>\n",
              "      <td>[4.23]</td>\n",
              "      <td>50.76</td>\n",
              "    </tr>\n",
              "    <tr>\n",
              "      <th>82.0</th>\n",
              "      <td>[Nirvana]</td>\n",
              "      <td>9</td>\n",
              "      <td>[4.9]</td>\n",
              "      <td>44.10</td>\n",
              "    </tr>\n",
              "    <tr>\n",
              "      <th>145.0</th>\n",
              "      <td>[Fiery Glass Crusader]</td>\n",
              "      <td>9</td>\n",
              "      <td>[4.58]</td>\n",
              "      <td>41.22</td>\n",
              "    </tr>\n",
              "    <tr>\n",
              "      <th>92.0</th>\n",
              "      <td>[Final Critic]</td>\n",
              "      <td>8</td>\n",
              "      <td>[4.88]</td>\n",
              "      <td>39.04</td>\n",
              "    </tr>\n",
              "    <tr>\n",
              "      <th>103.0</th>\n",
              "      <td>[Singed Scalpel]</td>\n",
              "      <td>8</td>\n",
              "      <td>[4.35]</td>\n",
              "      <td>34.80</td>\n",
              "    </tr>\n",
              "  </tbody>\n",
              "</table>\n",
              "</div>\n",
              "      <button class=\"colab-df-convert\" onclick=\"convertToInteractive('df-b78f9e65-36b9-46f0-a4fb-68489386d40e')\"\n",
              "              title=\"Convert this dataframe to an interactive table.\"\n",
              "              style=\"display:none;\">\n",
              "        \n",
              "  <svg xmlns=\"http://www.w3.org/2000/svg\" height=\"24px\"viewBox=\"0 0 24 24\"\n",
              "       width=\"24px\">\n",
              "    <path d=\"M0 0h24v24H0V0z\" fill=\"none\"/>\n",
              "    <path d=\"M18.56 5.44l.94 2.06.94-2.06 2.06-.94-2.06-.94-.94-2.06-.94 2.06-2.06.94zm-11 1L8.5 8.5l.94-2.06 2.06-.94-2.06-.94L8.5 2.5l-.94 2.06-2.06.94zm10 10l.94 2.06.94-2.06 2.06-.94-2.06-.94-.94-2.06-.94 2.06-2.06.94z\"/><path d=\"M17.41 7.96l-1.37-1.37c-.4-.4-.92-.59-1.43-.59-.52 0-1.04.2-1.43.59L10.3 9.45l-7.72 7.72c-.78.78-.78 2.05 0 2.83L4 21.41c.39.39.9.59 1.41.59.51 0 1.02-.2 1.41-.59l7.78-7.78 2.81-2.81c.8-.78.8-2.07 0-2.86zM5.41 20L4 18.59l7.72-7.72 1.47 1.35L5.41 20z\"/>\n",
              "  </svg>\n",
              "      </button>\n",
              "      \n",
              "  <style>\n",
              "    .colab-df-container {\n",
              "      display:flex;\n",
              "      flex-wrap:wrap;\n",
              "      gap: 12px;\n",
              "    }\n",
              "\n",
              "    .colab-df-convert {\n",
              "      background-color: #E8F0FE;\n",
              "      border: none;\n",
              "      border-radius: 50%;\n",
              "      cursor: pointer;\n",
              "      display: none;\n",
              "      fill: #1967D2;\n",
              "      height: 32px;\n",
              "      padding: 0 0 0 0;\n",
              "      width: 32px;\n",
              "    }\n",
              "\n",
              "    .colab-df-convert:hover {\n",
              "      background-color: #E2EBFA;\n",
              "      box-shadow: 0px 1px 2px rgba(60, 64, 67, 0.3), 0px 1px 3px 1px rgba(60, 64, 67, 0.15);\n",
              "      fill: #174EA6;\n",
              "    }\n",
              "\n",
              "    [theme=dark] .colab-df-convert {\n",
              "      background-color: #3B4455;\n",
              "      fill: #D2E3FC;\n",
              "    }\n",
              "\n",
              "    [theme=dark] .colab-df-convert:hover {\n",
              "      background-color: #434B5C;\n",
              "      box-shadow: 0px 1px 3px 1px rgba(0, 0, 0, 0.15);\n",
              "      filter: drop-shadow(0px 1px 2px rgba(0, 0, 0, 0.3));\n",
              "      fill: #FFFFFF;\n",
              "    }\n",
              "  </style>\n",
              "\n",
              "      <script>\n",
              "        const buttonEl =\n",
              "          document.querySelector('#df-b78f9e65-36b9-46f0-a4fb-68489386d40e button.colab-df-convert');\n",
              "        buttonEl.style.display =\n",
              "          google.colab.kernel.accessAllowed ? 'block' : 'none';\n",
              "\n",
              "        async function convertToInteractive(key) {\n",
              "          const element = document.querySelector('#df-b78f9e65-36b9-46f0-a4fb-68489386d40e');\n",
              "          const dataTable =\n",
              "            await google.colab.kernel.invokeFunction('convertToInteractive',\n",
              "                                                     [key], {});\n",
              "          if (!dataTable) return;\n",
              "\n",
              "          const docLinkHtml = 'Like what you see? Visit the ' +\n",
              "            '<a target=\"_blank\" href=https://colab.research.google.com/notebooks/data_table.ipynb>data table notebook</a>'\n",
              "            + ' to learn more about interactive tables.';\n",
              "          element.innerHTML = '';\n",
              "          dataTable['output_type'] = 'display_data';\n",
              "          await google.colab.output.renderOutput(dataTable, element);\n",
              "          const docLink = document.createElement('div');\n",
              "          docLink.innerHTML = docLinkHtml;\n",
              "          element.appendChild(docLink);\n",
              "        }\n",
              "      </script>\n",
              "    </div>\n",
              "  </div>\n",
              "  "
            ]
          },
          "metadata": {},
          "execution_count": 82
        }
      ]
    },
    {
      "cell_type": "markdown",
      "source": [
        "Se evidencia que el articulo mas rentable en cuanto al valor total de venta seria el de ID 178.0 con una cantidad de compras de 12. "
      ],
      "metadata": {
        "id": "DUz1El53E5hk"
      }
    }
  ]
}